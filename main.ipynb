{
 "cells": [
  {
   "cell_type": "code",
   "execution_count": 1,
   "id": "initial_id",
   "metadata": {},
   "outputs": [],
   "source": [
    "from ultralytics import YOLO\n",
    "import os\n",
    "import cv2\n",
    "import shutil\n",
    "from sklearn.model_selection import train_test_split\n",
    "import numpy as np"
   ]
  },
  {
   "cell_type": "code",
   "execution_count": 2,
   "id": "ac56f6e6ea79ce6e",
   "metadata": {
    "collapsed": false
   },
   "outputs": [],
   "source": [
    "IMAGES_DIR = './train_dataset/cv_open_dataset/open_img'  # Путь к вашему датасету с изображениями\n",
    "MASKS_DIR = './train_dataset/cv_open_dataset/open_msk'  # Путь к вашему датасету с масками\n",
    "OUTPUT_DIR = './datasets/train_data'  # Путь к выходной директории\n",
    "TRAIN_SIZE = 0.8  # Процент обучающей выборки"
   ]
  },
  {
   "cell_type": "code",
   "execution_count": 3,
   "id": "406044194f9535d5",
   "metadata": {
    "collapsed": false
   },
   "outputs": [],
   "source": [
    "os.makedirs(os.path.join(OUTPUT_DIR, 'images/train'), exist_ok=True)\n",
    "os.makedirs(os.path.join(OUTPUT_DIR, 'images/val'), exist_ok=True)\n",
    "os.makedirs(os.path.join(OUTPUT_DIR, 'labels/train'), exist_ok=True)\n",
    "os.makedirs(os.path.join(OUTPUT_DIR, 'labels/val'), exist_ok=True)"
   ]
  },
  {
   "cell_type": "code",
   "execution_count": 4,
   "id": "61ba29c30ff4a2dc",
   "metadata": {
    "collapsed": false
   },
   "outputs": [],
   "source": [
    "image_files = [f for f in os.listdir(IMAGES_DIR) if f.endswith(('.jpg', '.png'))]\n",
    "mask_files = [f for f in os.listdir(MASKS_DIR) if f.endswith('.png')]\n",
    "if len(image_files) != len(mask_files):\n",
    "    print(len(image_files))\n",
    "    print(len(mask_files))\n",
    "    print(\"Количество изображений и масок не совпадает.\")\n",
    "    for mask in mask_files:\n",
    "        if mask.replace(\".png\", \".jpg\") not in image_files:\n",
    "            print(mask)"
   ]
  },
  {
   "cell_type": "code",
   "execution_count": 5,
   "id": "d00ab007653eda31",
   "metadata": {
    "collapsed": false
   },
   "outputs": [],
   "source": [
    "train_images, val_images = train_test_split(image_files, train_size=TRAIN_SIZE, random_state=42)"
   ]
  },
  {
   "cell_type": "code",
   "execution_count": 6,
   "id": "f4cd15221eb3f864",
   "metadata": {
    "collapsed": false
   },
   "outputs": [],
   "source": [
    "def convert_mask_to_yolo(mask_path, out):\n",
    "    # Открываем изображение\n",
    "    image = cv2.imread(mask_path)\n",
    "\n",
    "    if image is None:\n",
    "        print(f\"Не удалось открыть изображение: {mask_path}\")\n",
    "        return\n",
    "    \n",
    "    height, width = image.shape[:2]\n",
    "\n",
    "    # Создаем маску для черного цвета\n",
    "    black_mask = cv2.inRange(image, (0, 0, 0), (50, 50, 50))\n",
    "\n",
    "    # Создаем новое изображение, где черный цвет остается, а остальные цвета становятся белыми\n",
    "    new_image = np.ones_like(image) * 255  # Начинаем с белого изображения\n",
    "    new_image[black_mask > 0] = [0, 0, 0]  # Заменяем черные пиксели\n",
    "\n",
    "    # Преобразуем в градации серого для нахождения контуров\n",
    "    gray_image = cv2.cvtColor(new_image, cv2.COLOR_BGR2GRAY)\n",
    "\n",
    "    # Находим контуры\n",
    "    contours, _ = cv2.findContours(gray_image, cv2.RETR_EXTERNAL, cv2.CHAIN_APPROX_SIMPLE)\n",
    "\n",
    "    # Сохраняем контуры в текстовом формате\n",
    "    output_file_name = os.path.splitext(os.path.basename(mask_path))[0] + '.txt'\n",
    "    output_file_path = os.path.join(OUTPUT_DIR, out, output_file_name)\n",
    "\n",
    "    with open(output_file_path, 'w') as f:\n",
    "        for index, contour in enumerate(contours):\n",
    "            # Получаем координаты всех точек контура\n",
    "            contour_points = contour.reshape(-1, 2)\n",
    "            # Нормализуем координаты\n",
    "            normalized_points = [(x / width, y / height) for x, y in contour_points]\n",
    "            points_str = ' '.join(f\"{x:.3f} {y:.3f}\" for x, y in normalized_points)\n",
    "            f.write(f\"0 {points_str}\\n\")"
   ]
  },
  {
   "cell_type": "code",
   "execution_count": 7,
   "id": "fdf99ded756441b8",
   "metadata": {
    "collapsed": false
   },
   "outputs": [],
   "source": [
    "# Копирование изображений и масок в соответствующие папки\n",
    "for img in train_images:\n",
    "    shutil.copy(os.path.join(IMAGES_DIR, img), os.path.join(OUTPUT_DIR, 'images/train', img))\n",
    "    mask_name = img.replace('.jpg', '.png')\n",
    "    convert_mask_to_yolo(os.path.join(MASKS_DIR, mask_name), 'labels/train')"
   ]
  },
  {
   "cell_type": "code",
   "execution_count": 8,
   "id": "1b2fd246643ce5cf",
   "metadata": {
    "collapsed": false
   },
   "outputs": [],
   "source": [
    "for img in val_images:\n",
    "    shutil.copy(os.path.join(IMAGES_DIR, img), os.path.join(OUTPUT_DIR, 'images/val', img))\n",
    "    mask_name = img.replace('.jpg', '.png')\n",
    "    convert_mask_to_yolo(os.path.join(MASKS_DIR, mask_name), 'labels/val')\n"
   ]
  },
  {
   "cell_type": "code",
   "execution_count": 7,
   "id": "7d7767e7853d7b98",
   "metadata": {
    "collapsed": false
   },
   "outputs": [
    {
     "name": "stdout",
     "output_type": "stream",
     "text": [
      "Датасет успешно разбит и сохранен в структуре проекта.\n"
     ]
    }
   ],
   "source": [
    "data_yaml_content = f\"\"\"\n",
    "train: train_data/images/train\n",
    "val: train_data/images/val\n",
    "\n",
    "nc: 1  # Обновите количество классов (1 для загрязнения)\n",
    "names: ['contaminated']  # Обновите названия классов\n",
    "\"\"\"\n",
    "\n",
    "with open('data.yaml', 'w') as f:\n",
    "    f.write(data_yaml_content)\n",
    "\n",
    "print(\"Датасет успешно разбит и сохранен в структуре проекта.\")"
   ]
  },
  {
   "cell_type": "code",
   "execution_count": 10,
   "id": "6a73b014c45fcc50",
   "metadata": {},
   "outputs": [],
   "source": [
    "model = YOLO(\"yolov8n-seg.pt\", task='segment')"
   ]
  },
  {
   "cell_type": "code",
   "execution_count": 11,
   "id": "4d85abfbc10ae302",
   "metadata": {},
   "outputs": [
    {
     "name": "stdout",
     "output_type": "stream",
     "text": [
      "Ultralytics 8.3.47  Python-3.12.7 torch-2.5.1+cu124 CUDA:0 (NVIDIA GeForce RTX 4050 Laptop GPU, 6141MiB)\n",
      "\u001b[34m\u001b[1mengine\\trainer: \u001b[0mtask=segment, mode=train, model=yolov8n-seg.pt, data=./data.yaml, epochs=70, time=None, patience=100, batch=16, imgsz=640, save=True, save_period=-1, cache=False, device=0, workers=8, project=None, name=train29, exist_ok=False, pretrained=True, optimizer=auto, verbose=True, seed=0, deterministic=True, single_cls=False, rect=False, cos_lr=False, close_mosaic=10, resume=False, amp=True, fraction=1.0, profile=False, freeze=None, multi_scale=False, overlap_mask=True, mask_ratio=4, dropout=0.0, val=True, split=val, save_json=False, save_hybrid=False, conf=None, iou=0.5, max_det=300, half=False, dnn=False, plots=True, source=None, vid_stride=1, stream_buffer=False, visualize=False, augment=False, agnostic_nms=False, classes=None, retina_masks=False, embed=None, show=False, save_frames=False, save_txt=False, save_conf=False, save_crop=False, show_labels=True, show_conf=True, show_boxes=True, line_width=None, format=torchscript, keras=False, optimize=False, int8=False, dynamic=False, simplify=True, opset=None, workspace=None, nms=False, lr0=0.01, lrf=0.01, momentum=0.937, weight_decay=0.0005, warmup_epochs=3.0, warmup_momentum=0.8, warmup_bias_lr=0.1, box=7.5, cls=0.5, dfl=1.5, pose=12.0, kobj=1.0, nbs=64, hsv_h=0.015, hsv_s=0.7, hsv_v=0.4, degrees=0.0, translate=0.1, scale=0.5, shear=0.0, perspective=0.0, flipud=0.0, fliplr=0.5, bgr=0.0, mosaic=1.0, mixup=0.2, copy_paste=1.0, copy_paste_mode=flip, auto_augment=randaugment, erasing=0.4, crop_fraction=1.0, cfg=None, tracker=botsort.yaml, save_dir=runs\\segment\\train29\n",
      "Overriding model.yaml nc=80 with nc=1\n",
      "\n",
      "                   from  n    params  module                                       arguments                     \n",
      "  0                  -1  1       464  ultralytics.nn.modules.conv.Conv             [3, 16, 3, 2]                 \n",
      "  1                  -1  1      4672  ultralytics.nn.modules.conv.Conv             [16, 32, 3, 2]                \n",
      "  2                  -1  1      7360  ultralytics.nn.modules.block.C2f             [32, 32, 1, True]             \n",
      "  3                  -1  1     18560  ultralytics.nn.modules.conv.Conv             [32, 64, 3, 2]                \n",
      "  4                  -1  2     49664  ultralytics.nn.modules.block.C2f             [64, 64, 2, True]             \n",
      "  5                  -1  1     73984  ultralytics.nn.modules.conv.Conv             [64, 128, 3, 2]               \n",
      "  6                  -1  2    197632  ultralytics.nn.modules.block.C2f             [128, 128, 2, True]           \n",
      "  7                  -1  1    295424  ultralytics.nn.modules.conv.Conv             [128, 256, 3, 2]              \n",
      "  8                  -1  1    460288  ultralytics.nn.modules.block.C2f             [256, 256, 1, True]           \n",
      "  9                  -1  1    164608  ultralytics.nn.modules.block.SPPF            [256, 256, 5]                 \n",
      " 10                  -1  1         0  torch.nn.modules.upsampling.Upsample         [None, 2, 'nearest']          \n",
      " 11             [-1, 6]  1         0  ultralytics.nn.modules.conv.Concat           [1]                           \n",
      " 12                  -1  1    148224  ultralytics.nn.modules.block.C2f             [384, 128, 1]                 \n",
      " 13                  -1  1         0  torch.nn.modules.upsampling.Upsample         [None, 2, 'nearest']          \n",
      " 14             [-1, 4]  1         0  ultralytics.nn.modules.conv.Concat           [1]                           \n",
      " 15                  -1  1     37248  ultralytics.nn.modules.block.C2f             [192, 64, 1]                  \n",
      " 16                  -1  1     36992  ultralytics.nn.modules.conv.Conv             [64, 64, 3, 2]                \n",
      " 17            [-1, 12]  1         0  ultralytics.nn.modules.conv.Concat           [1]                           \n",
      " 18                  -1  1    123648  ultralytics.nn.modules.block.C2f             [192, 128, 1]                 \n",
      " 19                  -1  1    147712  ultralytics.nn.modules.conv.Conv             [128, 128, 3, 2]              \n",
      " 20             [-1, 9]  1         0  ultralytics.nn.modules.conv.Concat           [1]                           \n",
      " 21                  -1  1    493056  ultralytics.nn.modules.block.C2f             [384, 256, 1]                 \n",
      " 22        [15, 18, 21]  1   1004275  ultralytics.nn.modules.head.Segment          [1, 32, 64, [64, 128, 256]]   \n",
      "YOLOv8n-seg summary: 261 layers, 3,263,811 parameters, 3,263,795 gradients, 12.1 GFLOPs\n",
      "\n",
      "Transferred 381/417 items from pretrained weights\n",
      "Freezing layer 'model.22.dfl.conv.weight'\n",
      "\u001b[34m\u001b[1mAMP: \u001b[0mrunning Automatic Mixed Precision (AMP) checks...\n",
      "\u001b[34m\u001b[1mAMP: \u001b[0mchecks passed \n"
     ]
    },
    {
     "name": "stderr",
     "output_type": "stream",
     "text": [
      "\u001b[34m\u001b[1mtrain: \u001b[0mScanning C:\\Users\\minim\\OneDrive\\Документы\\Hackathon_nornikel\\datasets\\train_data\\labels\\train.cache... 893 images, 214 backgrounds, 0 corrupt: 100%|██████████| 893/893 [00:00<?, ?it/s]\n",
      "\u001b[34m\u001b[1mval: \u001b[0mScanning C:\\Users\\minim\\OneDrive\\Документы\\Hackathon_nornikel\\datasets\\train_data\\labels\\val.cache... 392 images, 110 backgrounds, 0 corrupt: 100%|██████████| 392/392 [00:00<?, ?it/s]\n"
     ]
    },
    {
     "name": "stdout",
     "output_type": "stream",
     "text": [
      "Plotting labels to runs\\segment\\train29\\labels.jpg... \n",
      "\u001b[34m\u001b[1moptimizer:\u001b[0m 'optimizer=auto' found, ignoring 'lr0=0.01' and 'momentum=0.937' and determining best 'optimizer', 'lr0' and 'momentum' automatically... \n",
      "\u001b[34m\u001b[1moptimizer:\u001b[0m AdamW(lr=0.002, momentum=0.9) with parameter groups 66 weight(decay=0.0), 77 weight(decay=0.0005), 76 bias(decay=0.0)\n",
      "Image sizes 640 train, 640 val\n",
      "Using 8 dataloader workers\n",
      "Logging results to \u001b[1mruns\\segment\\train29\u001b[0m\n",
      "Starting training for 70 epochs...\n",
      "\n",
      "      Epoch    GPU_mem   box_loss   seg_loss   cls_loss   dfl_loss  Instances       Size\n"
     ]
    },
    {
     "name": "stderr",
     "output_type": "stream",
     "text": [
      "       1/70      4.19G      1.308      2.718      1.829      1.289        194        640: 100%|██████████| 56/56 [00:18<00:00,  2.97it/s]\n",
      "                 Class     Images  Instances      Box(P          R      mAP50  mAP50-95)     Mask(P          R      mAP50  mAP50-95): 100%|██████████| 13/13 [00:03<00:00,  3.78it/s]\n"
     ]
    },
    {
     "name": "stdout",
     "output_type": "stream",
     "text": [
      "                   all        392       1868      0.671      0.421      0.517       0.29      0.667      0.419        0.5      0.243\n",
      "\n",
      "      Epoch    GPU_mem   box_loss   seg_loss   cls_loss   dfl_loss  Instances       Size\n"
     ]
    },
    {
     "name": "stderr",
     "output_type": "stream",
     "text": [
      "       2/70      3.93G      1.142      2.158      1.149      1.184        221        640: 100%|██████████| 56/56 [00:16<00:00,  3.47it/s]\n",
      "                 Class     Images  Instances      Box(P          R      mAP50  mAP50-95)     Mask(P          R      mAP50  mAP50-95): 100%|██████████| 13/13 [00:02<00:00,  4.48it/s]"
     ]
    },
    {
     "name": "stdout",
     "output_type": "stream",
     "text": [
      "                   all        392       1868      0.665      0.585      0.584      0.338      0.655      0.552      0.537      0.285\n"
     ]
    },
    {
     "name": "stderr",
     "output_type": "stream",
     "text": [
      "\n"
     ]
    },
    {
     "name": "stdout",
     "output_type": "stream",
     "text": [
      "\n",
      "      Epoch    GPU_mem   box_loss   seg_loss   cls_loss   dfl_loss  Instances       Size\n"
     ]
    },
    {
     "name": "stderr",
     "output_type": "stream",
     "text": [
      "       3/70      4.26G      1.157      2.183      1.115      1.199        205        640: 100%|██████████| 56/56 [00:16<00:00,  3.48it/s]\n",
      "                 Class     Images  Instances      Box(P          R      mAP50  mAP50-95)     Mask(P          R      mAP50  mAP50-95): 100%|██████████| 13/13 [00:02<00:00,  4.59it/s]"
     ]
    },
    {
     "name": "stdout",
     "output_type": "stream",
     "text": [
      "                   all        392       1868      0.748      0.605      0.662      0.401      0.733      0.597      0.638      0.362\n"
     ]
    },
    {
     "name": "stderr",
     "output_type": "stream",
     "text": [
      "\n"
     ]
    },
    {
     "name": "stdout",
     "output_type": "stream",
     "text": [
      "\n",
      "      Epoch    GPU_mem   box_loss   seg_loss   cls_loss   dfl_loss  Instances       Size\n"
     ]
    },
    {
     "name": "stderr",
     "output_type": "stream",
     "text": [
      "       4/70      4.45G      1.141      2.145      1.055      1.188        228        640: 100%|██████████| 56/56 [00:17<00:00,  3.20it/s]\n",
      "                 Class     Images  Instances      Box(P          R      mAP50  mAP50-95)     Mask(P          R      mAP50  mAP50-95): 100%|██████████| 13/13 [00:04<00:00,  2.61it/s]\n"
     ]
    },
    {
     "name": "stdout",
     "output_type": "stream",
     "text": [
      "                   all        392       1868      0.827      0.692      0.754      0.467       0.82      0.686      0.737      0.437\n",
      "\n",
      "      Epoch    GPU_mem   box_loss   seg_loss   cls_loss   dfl_loss  Instances       Size\n"
     ]
    },
    {
     "name": "stderr",
     "output_type": "stream",
     "text": [
      "       5/70      4.29G      1.082      2.032      1.001      1.167        386        640: 100%|██████████| 56/56 [00:21<00:00,  2.62it/s]\n",
      "                 Class     Images  Instances      Box(P          R      mAP50  mAP50-95)     Mask(P          R      mAP50  mAP50-95): 100%|██████████| 13/13 [00:04<00:00,  2.63it/s]\n"
     ]
    },
    {
     "name": "stdout",
     "output_type": "stream",
     "text": [
      "                   all        392       1868      0.855      0.735      0.792      0.514      0.852      0.731      0.782       0.48\n",
      "\n",
      "      Epoch    GPU_mem   box_loss   seg_loss   cls_loss   dfl_loss  Instances       Size\n"
     ]
    },
    {
     "name": "stderr",
     "output_type": "stream",
     "text": [
      "       6/70      4.53G      1.055      1.967      0.941      1.144        168        640: 100%|██████████| 56/56 [00:21<00:00,  2.57it/s]\n",
      "                 Class     Images  Instances      Box(P          R      mAP50  mAP50-95)     Mask(P          R      mAP50  mAP50-95): 100%|██████████| 13/13 [00:04<00:00,  2.66it/s]\n"
     ]
    },
    {
     "name": "stdout",
     "output_type": "stream",
     "text": [
      "                   all        392       1868      0.744      0.626      0.673      0.434       0.75      0.612      0.654      0.375\n",
      "\n",
      "      Epoch    GPU_mem   box_loss   seg_loss   cls_loss   dfl_loss  Instances       Size\n"
     ]
    },
    {
     "name": "stderr",
     "output_type": "stream",
     "text": [
      "       7/70      3.79G      1.079      1.984     0.9551       1.16        281        640: 100%|██████████| 56/56 [00:22<00:00,  2.53it/s]\n",
      "                 Class     Images  Instances      Box(P          R      mAP50  mAP50-95)     Mask(P          R      mAP50  mAP50-95): 100%|██████████| 13/13 [00:05<00:00,  2.50it/s]\n"
     ]
    },
    {
     "name": "stdout",
     "output_type": "stream",
     "text": [
      "                   all        392       1868      0.874      0.749      0.818      0.525      0.873      0.745       0.81      0.502\n",
      "\n",
      "      Epoch    GPU_mem   box_loss   seg_loss   cls_loss   dfl_loss  Instances       Size\n"
     ]
    },
    {
     "name": "stderr",
     "output_type": "stream",
     "text": [
      "       8/70      4.27G      1.024       1.86     0.9034      1.129        212        640: 100%|██████████| 56/56 [00:21<00:00,  2.59it/s]\n",
      "                 Class     Images  Instances      Box(P          R      mAP50  mAP50-95)     Mask(P          R      mAP50  mAP50-95): 100%|██████████| 13/13 [00:05<00:00,  2.55it/s]"
     ]
    },
    {
     "name": "stdout",
     "output_type": "stream",
     "text": [
      "                   all        392       1868      0.844      0.748      0.792      0.536      0.846      0.738      0.784      0.492\n"
     ]
    },
    {
     "name": "stderr",
     "output_type": "stream",
     "text": [
      "\n"
     ]
    },
    {
     "name": "stdout",
     "output_type": "stream",
     "text": [
      "\n",
      "      Epoch    GPU_mem   box_loss   seg_loss   cls_loss   dfl_loss  Instances       Size\n"
     ]
    },
    {
     "name": "stderr",
     "output_type": "stream",
     "text": [
      "       9/70      4.41G     0.9854      1.829     0.8631       1.12        209        640: 100%|██████████| 56/56 [00:21<00:00,  2.60it/s]\n",
      "                 Class     Images  Instances      Box(P          R      mAP50  mAP50-95)     Mask(P          R      mAP50  mAP50-95): 100%|██████████| 13/13 [00:05<00:00,  2.42it/s]\n"
     ]
    },
    {
     "name": "stdout",
     "output_type": "stream",
     "text": [
      "                   all        392       1868      0.864      0.745      0.803       0.56       0.87      0.751      0.806      0.504\n",
      "\n",
      "      Epoch    GPU_mem   box_loss   seg_loss   cls_loss   dfl_loss  Instances       Size\n"
     ]
    },
    {
     "name": "stderr",
     "output_type": "stream",
     "text": [
      "      10/70      4.81G     0.9985      1.865     0.8486      1.114        170        640: 100%|██████████| 56/56 [00:22<00:00,  2.49it/s]\n",
      "                 Class     Images  Instances      Box(P          R      mAP50  mAP50-95)     Mask(P          R      mAP50  mAP50-95): 100%|██████████| 13/13 [00:05<00:00,  2.35it/s]\n"
     ]
    },
    {
     "name": "stdout",
     "output_type": "stream",
     "text": [
      "                   all        392       1868       0.87      0.775      0.835      0.582      0.882      0.773      0.825      0.514\n",
      "\n",
      "      Epoch    GPU_mem   box_loss   seg_loss   cls_loss   dfl_loss  Instances       Size\n"
     ]
    },
    {
     "name": "stderr",
     "output_type": "stream",
     "text": [
      "      11/70      3.84G     0.9756      1.892     0.8426      1.118        208        640: 100%|██████████| 56/56 [00:22<00:00,  2.54it/s]\n",
      "                 Class     Images  Instances      Box(P          R      mAP50  mAP50-95)     Mask(P          R      mAP50  mAP50-95): 100%|██████████| 13/13 [00:04<00:00,  2.62it/s]\n"
     ]
    },
    {
     "name": "stdout",
     "output_type": "stream",
     "text": [
      "                   all        392       1868      0.747      0.674      0.693      0.467      0.732      0.678      0.683      0.415\n",
      "\n",
      "      Epoch    GPU_mem   box_loss   seg_loss   cls_loss   dfl_loss  Instances       Size\n"
     ]
    },
    {
     "name": "stderr",
     "output_type": "stream",
     "text": [
      "      12/70      4.56G     0.9962      1.932     0.8572      1.122        196        640: 100%|██████████| 56/56 [00:23<00:00,  2.35it/s]\n",
      "                 Class     Images  Instances      Box(P          R      mAP50  mAP50-95)     Mask(P          R      mAP50  mAP50-95): 100%|██████████| 13/13 [00:05<00:00,  2.43it/s]\n"
     ]
    },
    {
     "name": "stdout",
     "output_type": "stream",
     "text": [
      "                   all        392       1868      0.879      0.773      0.837      0.601      0.895      0.762      0.823      0.528\n",
      "\n",
      "      Epoch    GPU_mem   box_loss   seg_loss   cls_loss   dfl_loss  Instances       Size\n"
     ]
    },
    {
     "name": "stderr",
     "output_type": "stream",
     "text": [
      "      13/70      3.72G     0.9638      1.825      0.816        1.1        221        640: 100%|██████████| 56/56 [00:22<00:00,  2.51it/s]\n",
      "                 Class     Images  Instances      Box(P          R      mAP50  mAP50-95)     Mask(P          R      mAP50  mAP50-95): 100%|██████████| 13/13 [00:04<00:00,  2.67it/s]\n"
     ]
    },
    {
     "name": "stdout",
     "output_type": "stream",
     "text": [
      "                   all        392       1868      0.869      0.784      0.836      0.602        0.9      0.764       0.83      0.543\n",
      "\n",
      "      Epoch    GPU_mem   box_loss   seg_loss   cls_loss   dfl_loss  Instances       Size\n"
     ]
    },
    {
     "name": "stderr",
     "output_type": "stream",
     "text": [
      "      14/70      3.79G     0.9328      1.726     0.7824      1.088        279        640: 100%|██████████| 56/56 [00:22<00:00,  2.47it/s]\n",
      "                 Class     Images  Instances      Box(P          R      mAP50  mAP50-95)     Mask(P          R      mAP50  mAP50-95): 100%|██████████| 13/13 [00:05<00:00,  2.38it/s]\n"
     ]
    },
    {
     "name": "stdout",
     "output_type": "stream",
     "text": [
      "                   all        392       1868      0.871      0.792      0.828      0.601      0.867      0.781      0.817      0.546\n",
      "\n",
      "      Epoch    GPU_mem   box_loss   seg_loss   cls_loss   dfl_loss  Instances       Size\n"
     ]
    },
    {
     "name": "stderr",
     "output_type": "stream",
     "text": [
      "      15/70      4.44G     0.9398      1.788      0.791      1.098        231        640: 100%|██████████| 56/56 [00:16<00:00,  3.40it/s]\n",
      "                 Class     Images  Instances      Box(P          R      mAP50  mAP50-95)     Mask(P          R      mAP50  mAP50-95): 100%|██████████| 13/13 [00:02<00:00,  4.52it/s]"
     ]
    },
    {
     "name": "stdout",
     "output_type": "stream",
     "text": [
      "                   all        392       1868      0.882      0.774      0.831      0.601      0.885      0.768       0.81      0.527\n"
     ]
    },
    {
     "name": "stderr",
     "output_type": "stream",
     "text": [
      "\n"
     ]
    },
    {
     "name": "stdout",
     "output_type": "stream",
     "text": [
      "\n",
      "      Epoch    GPU_mem   box_loss   seg_loss   cls_loss   dfl_loss  Instances       Size\n"
     ]
    },
    {
     "name": "stderr",
     "output_type": "stream",
     "text": [
      "      16/70      4.45G     0.9547      1.822       0.81      1.104        220        640: 100%|██████████| 56/56 [00:15<00:00,  3.50it/s]\n",
      "                 Class     Images  Instances      Box(P          R      mAP50  mAP50-95)     Mask(P          R      mAP50  mAP50-95): 100%|██████████| 13/13 [00:03<00:00,  4.24it/s]"
     ]
    },
    {
     "name": "stdout",
     "output_type": "stream",
     "text": [
      "                   all        392       1868      0.896      0.793      0.841      0.614      0.895       0.79      0.831      0.534\n"
     ]
    },
    {
     "name": "stderr",
     "output_type": "stream",
     "text": [
      "\n"
     ]
    },
    {
     "name": "stdout",
     "output_type": "stream",
     "text": [
      "\n",
      "      Epoch    GPU_mem   box_loss   seg_loss   cls_loss   dfl_loss  Instances       Size\n"
     ]
    },
    {
     "name": "stderr",
     "output_type": "stream",
     "text": [
      "      17/70      4.17G     0.9328      1.749     0.7823      1.098        162        640: 100%|██████████| 56/56 [00:15<00:00,  3.52it/s]\n",
      "                 Class     Images  Instances      Box(P          R      mAP50  mAP50-95)     Mask(P          R      mAP50  mAP50-95): 100%|██████████| 13/13 [00:03<00:00,  3.89it/s]"
     ]
    },
    {
     "name": "stdout",
     "output_type": "stream",
     "text": [
      "                   all        392       1868      0.914      0.786      0.854      0.612      0.926      0.769      0.836       0.56\n"
     ]
    },
    {
     "name": "stderr",
     "output_type": "stream",
     "text": [
      "\n"
     ]
    },
    {
     "name": "stdout",
     "output_type": "stream",
     "text": [
      "\n",
      "      Epoch    GPU_mem   box_loss   seg_loss   cls_loss   dfl_loss  Instances       Size\n"
     ]
    },
    {
     "name": "stderr",
     "output_type": "stream",
     "text": [
      "      18/70      3.72G     0.9329      1.787      0.787      1.097        217        640: 100%|██████████| 56/56 [00:17<00:00,  3.13it/s]\n",
      "                 Class     Images  Instances      Box(P          R      mAP50  mAP50-95)     Mask(P          R      mAP50  mAP50-95): 100%|██████████| 13/13 [00:05<00:00,  2.35it/s]\n"
     ]
    },
    {
     "name": "stdout",
     "output_type": "stream",
     "text": [
      "                   all        392       1868       0.89      0.798      0.836      0.607      0.902      0.772      0.822      0.541\n",
      "\n",
      "      Epoch    GPU_mem   box_loss   seg_loss   cls_loss   dfl_loss  Instances       Size\n"
     ]
    },
    {
     "name": "stderr",
     "output_type": "stream",
     "text": [
      "      19/70      4.55G     0.9443       1.76     0.7763      1.094        277        640: 100%|██████████| 56/56 [00:17<00:00,  3.13it/s]\n",
      "                 Class     Images  Instances      Box(P          R      mAP50  mAP50-95)     Mask(P          R      mAP50  mAP50-95): 100%|██████████| 13/13 [00:03<00:00,  3.64it/s]"
     ]
    },
    {
     "name": "stdout",
     "output_type": "stream",
     "text": [
      "                   all        392       1868      0.876      0.796      0.848       0.63      0.903       0.77       0.83      0.557\n"
     ]
    },
    {
     "name": "stderr",
     "output_type": "stream",
     "text": [
      "\n"
     ]
    },
    {
     "name": "stdout",
     "output_type": "stream",
     "text": [
      "\n",
      "      Epoch    GPU_mem   box_loss   seg_loss   cls_loss   dfl_loss  Instances       Size\n"
     ]
    },
    {
     "name": "stderr",
     "output_type": "stream",
     "text": [
      "      20/70      4.06G     0.9223      1.741      0.765      1.085        325        640: 100%|██████████| 56/56 [00:17<00:00,  3.15it/s]\n",
      "                 Class     Images  Instances      Box(P          R      mAP50  mAP50-95)     Mask(P          R      mAP50  mAP50-95): 100%|██████████| 13/13 [00:03<00:00,  3.59it/s]"
     ]
    },
    {
     "name": "stdout",
     "output_type": "stream",
     "text": [
      "                   all        392       1868      0.872      0.815      0.852      0.614      0.891      0.798      0.845      0.551\n"
     ]
    },
    {
     "name": "stderr",
     "output_type": "stream",
     "text": [
      "\n"
     ]
    },
    {
     "name": "stdout",
     "output_type": "stream",
     "text": [
      "\n",
      "      Epoch    GPU_mem   box_loss   seg_loss   cls_loss   dfl_loss  Instances       Size\n"
     ]
    },
    {
     "name": "stderr",
     "output_type": "stream",
     "text": [
      "      21/70      3.58G     0.9146      1.705     0.7483      1.085        245        640: 100%|██████████| 56/56 [00:17<00:00,  3.18it/s]\n",
      "                 Class     Images  Instances      Box(P          R      mAP50  mAP50-95)     Mask(P          R      mAP50  mAP50-95): 100%|██████████| 13/13 [00:03<00:00,  3.35it/s]"
     ]
    },
    {
     "name": "stdout",
     "output_type": "stream",
     "text": [
      "                   all        392       1868      0.917      0.807      0.864      0.654      0.914      0.801      0.851      0.582\n"
     ]
    },
    {
     "name": "stderr",
     "output_type": "stream",
     "text": [
      "\n"
     ]
    },
    {
     "name": "stdout",
     "output_type": "stream",
     "text": [
      "\n",
      "      Epoch    GPU_mem   box_loss   seg_loss   cls_loss   dfl_loss  Instances       Size\n"
     ]
    },
    {
     "name": "stderr",
     "output_type": "stream",
     "text": [
      "      22/70      4.04G     0.9183        1.7     0.7474      1.082        212        640: 100%|██████████| 56/56 [00:18<00:00,  3.09it/s]\n",
      "                 Class     Images  Instances      Box(P          R      mAP50  mAP50-95)     Mask(P          R      mAP50  mAP50-95): 100%|██████████| 13/13 [00:04<00:00,  3.13it/s]\n"
     ]
    },
    {
     "name": "stdout",
     "output_type": "stream",
     "text": [
      "                   all        392       1868      0.916      0.802      0.863       0.65      0.917      0.801      0.854      0.572\n",
      "\n",
      "      Epoch    GPU_mem   box_loss   seg_loss   cls_loss   dfl_loss  Instances       Size\n"
     ]
    },
    {
     "name": "stderr",
     "output_type": "stream",
     "text": [
      "      23/70      3.68G      0.911       1.73     0.7414      1.084        185        640: 100%|██████████| 56/56 [00:21<00:00,  2.58it/s]\n",
      "                 Class     Images  Instances      Box(P          R      mAP50  mAP50-95)     Mask(P          R      mAP50  mAP50-95): 100%|██████████| 13/13 [00:06<00:00,  1.90it/s]"
     ]
    },
    {
     "name": "stdout",
     "output_type": "stream",
     "text": [
      "                   all        392       1868      0.918      0.801       0.86      0.648      0.913      0.797       0.85      0.574\n"
     ]
    },
    {
     "name": "stderr",
     "output_type": "stream",
     "text": [
      "\n"
     ]
    },
    {
     "name": "stdout",
     "output_type": "stream",
     "text": [
      "\n",
      "      Epoch    GPU_mem   box_loss   seg_loss   cls_loss   dfl_loss  Instances       Size\n"
     ]
    },
    {
     "name": "stderr",
     "output_type": "stream",
     "text": [
      "      24/70      4.47G     0.8896      1.665     0.7383      1.075        136        640: 100%|██████████| 56/56 [00:28<00:00,  1.96it/s]\n",
      "                 Class     Images  Instances      Box(P          R      mAP50  mAP50-95)     Mask(P          R      mAP50  mAP50-95): 100%|██████████| 13/13 [00:07<00:00,  1.84it/s]\n"
     ]
    },
    {
     "name": "stdout",
     "output_type": "stream",
     "text": [
      "                   all        392       1868      0.898      0.816      0.871      0.659      0.906      0.815      0.865      0.587\n",
      "\n",
      "      Epoch    GPU_mem   box_loss   seg_loss   cls_loss   dfl_loss  Instances       Size\n"
     ]
    },
    {
     "name": "stderr",
     "output_type": "stream",
     "text": [
      "      25/70      3.76G     0.8888      1.699     0.7348      1.086        370        640: 100%|██████████| 56/56 [00:29<00:00,  1.90it/s]\n",
      "                 Class     Images  Instances      Box(P          R      mAP50  mAP50-95)     Mask(P          R      mAP50  mAP50-95): 100%|██████████| 13/13 [00:06<00:00,  2.09it/s]"
     ]
    },
    {
     "name": "stdout",
     "output_type": "stream",
     "text": [
      "                   all        392       1868      0.929      0.795      0.868      0.655      0.928       0.79      0.856      0.582\n"
     ]
    },
    {
     "name": "stderr",
     "output_type": "stream",
     "text": [
      "\n"
     ]
    },
    {
     "name": "stdout",
     "output_type": "stream",
     "text": [
      "\n",
      "      Epoch    GPU_mem   box_loss   seg_loss   cls_loss   dfl_loss  Instances       Size\n"
     ]
    },
    {
     "name": "stderr",
     "output_type": "stream",
     "text": [
      "      26/70      4.12G     0.8865      1.685     0.7277      1.078        314        640: 100%|██████████| 56/56 [00:17<00:00,  3.13it/s]\n",
      "                 Class     Images  Instances      Box(P          R      mAP50  mAP50-95)     Mask(P          R      mAP50  mAP50-95): 100%|██████████| 13/13 [00:04<00:00,  2.75it/s]\n"
     ]
    },
    {
     "name": "stdout",
     "output_type": "stream",
     "text": [
      "                   all        392       1868      0.897      0.825      0.874      0.664      0.935      0.796      0.863       0.59\n",
      "\n",
      "      Epoch    GPU_mem   box_loss   seg_loss   cls_loss   dfl_loss  Instances       Size\n"
     ]
    },
    {
     "name": "stderr",
     "output_type": "stream",
     "text": [
      "      27/70      4.41G     0.8896      1.685     0.7345      1.083        226        640: 100%|██████████| 56/56 [00:18<00:00,  2.96it/s]\n",
      "                 Class     Images  Instances      Box(P          R      mAP50  mAP50-95)     Mask(P          R      mAP50  mAP50-95): 100%|██████████| 13/13 [00:04<00:00,  3.00it/s]\n"
     ]
    },
    {
     "name": "stdout",
     "output_type": "stream",
     "text": [
      "                   all        392       1868      0.909      0.794      0.846      0.626      0.917      0.789       0.84       0.56\n",
      "\n",
      "      Epoch    GPU_mem   box_loss   seg_loss   cls_loss   dfl_loss  Instances       Size\n"
     ]
    },
    {
     "name": "stderr",
     "output_type": "stream",
     "text": [
      "      28/70         4G     0.8729      1.628      0.715       1.07        210        640: 100%|██████████| 56/56 [00:19<00:00,  2.90it/s]\n",
      "                 Class     Images  Instances      Box(P          R      mAP50  mAP50-95)     Mask(P          R      mAP50  mAP50-95): 100%|██████████| 13/13 [00:05<00:00,  2.53it/s]\n"
     ]
    },
    {
     "name": "stdout",
     "output_type": "stream",
     "text": [
      "                   all        392       1868      0.903      0.815      0.872      0.657      0.898      0.815      0.862      0.575\n",
      "\n",
      "      Epoch    GPU_mem   box_loss   seg_loss   cls_loss   dfl_loss  Instances       Size\n"
     ]
    },
    {
     "name": "stderr",
     "output_type": "stream",
     "text": [
      "      29/70      3.81G     0.8701      1.655      0.721      1.061        252        640: 100%|██████████| 56/56 [00:16<00:00,  3.48it/s]\n",
      "                 Class     Images  Instances      Box(P          R      mAP50  mAP50-95)     Mask(P          R      mAP50  mAP50-95): 100%|██████████| 13/13 [00:04<00:00,  2.82it/s]\n"
     ]
    },
    {
     "name": "stdout",
     "output_type": "stream",
     "text": [
      "                   all        392       1868      0.928      0.802      0.874      0.657      0.929      0.795       0.86      0.605\n",
      "\n",
      "      Epoch    GPU_mem   box_loss   seg_loss   cls_loss   dfl_loss  Instances       Size\n"
     ]
    },
    {
     "name": "stderr",
     "output_type": "stream",
     "text": [
      "      30/70      4.32G     0.8563      1.607     0.6886      1.055        370        640: 100%|██████████| 56/56 [00:23<00:00,  2.36it/s]\n",
      "                 Class     Images  Instances      Box(P          R      mAP50  mAP50-95)     Mask(P          R      mAP50  mAP50-95): 100%|██████████| 13/13 [00:07<00:00,  1.76it/s]\n"
     ]
    },
    {
     "name": "stdout",
     "output_type": "stream",
     "text": [
      "                   all        392       1868      0.921      0.814       0.87      0.669      0.918      0.812       0.86      0.593\n",
      "\n",
      "      Epoch    GPU_mem   box_loss   seg_loss   cls_loss   dfl_loss  Instances       Size\n"
     ]
    },
    {
     "name": "stderr",
     "output_type": "stream",
     "text": [
      "      31/70       3.8G     0.8617      1.629     0.7022      1.059        312        640: 100%|██████████| 56/56 [00:24<00:00,  2.28it/s]\n",
      "                 Class     Images  Instances      Box(P          R      mAP50  mAP50-95)     Mask(P          R      mAP50  mAP50-95): 100%|██████████| 13/13 [00:05<00:00,  2.20it/s]\n"
     ]
    },
    {
     "name": "stdout",
     "output_type": "stream",
     "text": [
      "                   all        392       1868      0.916      0.809      0.877      0.671      0.926      0.793      0.862      0.602\n",
      "\n",
      "      Epoch    GPU_mem   box_loss   seg_loss   cls_loss   dfl_loss  Instances       Size\n"
     ]
    },
    {
     "name": "stderr",
     "output_type": "stream",
     "text": [
      "      32/70      4.28G     0.8613      1.635      0.708      1.061        313        640: 100%|██████████| 56/56 [00:25<00:00,  2.19it/s]\n",
      "                 Class     Images  Instances      Box(P          R      mAP50  mAP50-95)     Mask(P          R      mAP50  mAP50-95): 100%|██████████| 13/13 [00:05<00:00,  2.21it/s]\n"
     ]
    },
    {
     "name": "stdout",
     "output_type": "stream",
     "text": [
      "                   all        392       1868      0.929      0.811      0.875      0.671      0.934      0.805      0.866      0.588\n",
      "\n",
      "      Epoch    GPU_mem   box_loss   seg_loss   cls_loss   dfl_loss  Instances       Size\n"
     ]
    },
    {
     "name": "stderr",
     "output_type": "stream",
     "text": [
      "      33/70      3.88G     0.8532      1.631     0.7006      1.065        273        640: 100%|██████████| 56/56 [00:25<00:00,  2.24it/s]\n",
      "                 Class     Images  Instances      Box(P          R      mAP50  mAP50-95)     Mask(P          R      mAP50  mAP50-95): 100%|██████████| 13/13 [00:04<00:00,  3.04it/s]"
     ]
    },
    {
     "name": "stdout",
     "output_type": "stream",
     "text": [
      "                   all        392       1868      0.912      0.825      0.876      0.676      0.918      0.823      0.869      0.616\n"
     ]
    },
    {
     "name": "stderr",
     "output_type": "stream",
     "text": [
      "\n"
     ]
    },
    {
     "name": "stdout",
     "output_type": "stream",
     "text": [
      "\n",
      "      Epoch    GPU_mem   box_loss   seg_loss   cls_loss   dfl_loss  Instances       Size\n"
     ]
    },
    {
     "name": "stderr",
     "output_type": "stream",
     "text": [
      "      34/70      3.93G      0.848      1.608     0.6757      1.049        315        640:  93%|█████████▎| 52/56 [00:18<00:01,  2.85it/s]\n"
     ]
    },
    {
     "ename": "KeyboardInterrupt",
     "evalue": "",
     "output_type": "error",
     "traceback": [
      "\u001b[1;31m---------------------------------------------------------------------------\u001b[0m",
      "\u001b[1;31mKeyboardInterrupt\u001b[0m                         Traceback (most recent call last)",
      "Cell \u001b[1;32mIn[11], line 1\u001b[0m\n\u001b[1;32m----> 1\u001b[0m train_results \u001b[38;5;241m=\u001b[39m \u001b[43mmodel\u001b[49m\u001b[38;5;241;43m.\u001b[39;49m\u001b[43mtrain\u001b[49m\u001b[43m(\u001b[49m\n\u001b[0;32m      2\u001b[0m \u001b[43m    \u001b[49m\u001b[43mdata\u001b[49m\u001b[38;5;241;43m=\u001b[39;49m\u001b[38;5;124;43m\"\u001b[39;49m\u001b[38;5;124;43m./data.yaml\u001b[39;49m\u001b[38;5;124;43m\"\u001b[39;49m\u001b[43m,\u001b[49m\u001b[43m  \u001b[49m\u001b[38;5;66;43;03m# path to dataset YAML\u001b[39;49;00m\n\u001b[0;32m      3\u001b[0m \u001b[43m    \u001b[49m\u001b[43mepochs\u001b[49m\u001b[38;5;241;43m=\u001b[39;49m\u001b[38;5;241;43m70\u001b[39;49m\u001b[43m,\u001b[49m\u001b[43m  \u001b[49m\u001b[38;5;66;43;03m# number of training epochs\u001b[39;49;00m\n\u001b[0;32m      4\u001b[0m \u001b[43m    \u001b[49m\u001b[43mimgsz\u001b[49m\u001b[38;5;241;43m=\u001b[39;49m\u001b[38;5;241;43m640\u001b[39;49m\u001b[43m,\u001b[49m\u001b[43m  \u001b[49m\u001b[38;5;66;43;03m# training image size\u001b[39;49;00m\n\u001b[0;32m      5\u001b[0m \u001b[43m    \u001b[49m\u001b[43mdevice\u001b[49m\u001b[38;5;241;43m=\u001b[39;49m\u001b[38;5;124;43m\"\u001b[39;49m\u001b[38;5;124;43m0\u001b[39;49m\u001b[38;5;124;43m\"\u001b[39;49m\u001b[43m,\u001b[49m\u001b[43m  \u001b[49m\u001b[38;5;66;43;03m# device to run on, i.e. device=0 or device=0,1,2,3 or device=cpu\u001b[39;49;00m\n\u001b[0;32m      6\u001b[0m \u001b[43m    \u001b[49m\u001b[43miou\u001b[49m\u001b[43m \u001b[49m\u001b[38;5;241;43m=\u001b[39;49m\u001b[43m \u001b[49m\u001b[38;5;241;43m0.5\u001b[39;49m\u001b[43m,\u001b[49m\u001b[43m \u001b[49m\u001b[38;5;66;43;03m#\u001b[39;49;00m\n\u001b[0;32m      7\u001b[0m \u001b[43m    \u001b[49m\u001b[43mcopy_paste\u001b[49m\u001b[43m \u001b[49m\u001b[38;5;241;43m=\u001b[39;49m\u001b[43m \u001b[49m\u001b[38;5;241;43m1.0\u001b[39;49m\u001b[43m,\u001b[49m\u001b[43m \u001b[49m\u001b[38;5;66;43;03m#\u001b[39;49;00m\n\u001b[0;32m      8\u001b[0m \u001b[43m    \u001b[49m\u001b[38;5;66;43;03m# hsv_v = 0.5, #\u001b[39;49;00m\n\u001b[0;32m      9\u001b[0m \u001b[43m    \u001b[49m\u001b[43mmixup\u001b[49m\u001b[38;5;241;43m=\u001b[39;49m\u001b[43m \u001b[49m\u001b[38;5;241;43m0.2\u001b[39;49m\u001b[43m \u001b[49m\u001b[38;5;66;43;03m#\u001b[39;49;00m\n\u001b[0;32m     10\u001b[0m \u001b[43m    \u001b[49m\u001b[38;5;66;43;03m# max_det = 100, #\u001b[39;49;00m\n\u001b[0;32m     11\u001b[0m \u001b[43m    \u001b[49m\u001b[38;5;66;43;03m#mask_ratio=3, #\u001b[39;49;00m\n\u001b[0;32m     12\u001b[0m \u001b[43m    \u001b[49m\u001b[38;5;66;43;03m# single_cls = True,\u001b[39;49;00m\n\u001b[0;32m     13\u001b[0m \u001b[43m    \u001b[49m\u001b[38;5;66;43;03m# patience = 20 #обучение останавливается, если метрика не выросла спустя это число эпох\u001b[39;49;00m\n\u001b[0;32m     14\u001b[0m \u001b[43m   \u001b[49m\n\u001b[0;32m     15\u001b[0m \u001b[43m)\u001b[49m\n",
      "File \u001b[1;32mc:\\Users\\minim\\OneDrive\\Документы\\Hackathon_nornikel\\.venv\\Lib\\site-packages\\ultralytics\\engine\\model.py:806\u001b[0m, in \u001b[0;36mModel.train\u001b[1;34m(self, trainer, **kwargs)\u001b[0m\n\u001b[0;32m    803\u001b[0m     \u001b[38;5;28mself\u001b[39m\u001b[38;5;241m.\u001b[39mmodel \u001b[38;5;241m=\u001b[39m \u001b[38;5;28mself\u001b[39m\u001b[38;5;241m.\u001b[39mtrainer\u001b[38;5;241m.\u001b[39mmodel\n\u001b[0;32m    805\u001b[0m \u001b[38;5;28mself\u001b[39m\u001b[38;5;241m.\u001b[39mtrainer\u001b[38;5;241m.\u001b[39mhub_session \u001b[38;5;241m=\u001b[39m \u001b[38;5;28mself\u001b[39m\u001b[38;5;241m.\u001b[39msession  \u001b[38;5;66;03m# attach optional HUB session\u001b[39;00m\n\u001b[1;32m--> 806\u001b[0m \u001b[38;5;28;43mself\u001b[39;49m\u001b[38;5;241;43m.\u001b[39;49m\u001b[43mtrainer\u001b[49m\u001b[38;5;241;43m.\u001b[39;49m\u001b[43mtrain\u001b[49m\u001b[43m(\u001b[49m\u001b[43m)\u001b[49m\n\u001b[0;32m    807\u001b[0m \u001b[38;5;66;03m# Update model and cfg after training\u001b[39;00m\n\u001b[0;32m    808\u001b[0m \u001b[38;5;28;01mif\u001b[39;00m RANK \u001b[38;5;129;01min\u001b[39;00m {\u001b[38;5;241m-\u001b[39m\u001b[38;5;241m1\u001b[39m, \u001b[38;5;241m0\u001b[39m}:\n",
      "File \u001b[1;32mc:\\Users\\minim\\OneDrive\\Документы\\Hackathon_nornikel\\.venv\\Lib\\site-packages\\ultralytics\\engine\\trainer.py:207\u001b[0m, in \u001b[0;36mBaseTrainer.train\u001b[1;34m(self)\u001b[0m\n\u001b[0;32m    204\u001b[0m         ddp_cleanup(\u001b[38;5;28mself\u001b[39m, \u001b[38;5;28mstr\u001b[39m(file))\n\u001b[0;32m    206\u001b[0m \u001b[38;5;28;01melse\u001b[39;00m:\n\u001b[1;32m--> 207\u001b[0m     \u001b[38;5;28;43mself\u001b[39;49m\u001b[38;5;241;43m.\u001b[39;49m\u001b[43m_do_train\u001b[49m\u001b[43m(\u001b[49m\u001b[43mworld_size\u001b[49m\u001b[43m)\u001b[49m\n",
      "File \u001b[1;32mc:\\Users\\minim\\OneDrive\\Документы\\Hackathon_nornikel\\.venv\\Lib\\site-packages\\ultralytics\\engine\\trainer.py:408\u001b[0m, in \u001b[0;36mBaseTrainer._do_train\u001b[1;34m(self, world_size)\u001b[0m\n\u001b[0;32m    406\u001b[0m \u001b[38;5;28;01mif\u001b[39;00m RANK \u001b[38;5;129;01min\u001b[39;00m {\u001b[38;5;241m-\u001b[39m\u001b[38;5;241m1\u001b[39m, \u001b[38;5;241m0\u001b[39m}:\n\u001b[0;32m    407\u001b[0m     loss_length \u001b[38;5;241m=\u001b[39m \u001b[38;5;28mself\u001b[39m\u001b[38;5;241m.\u001b[39mtloss\u001b[38;5;241m.\u001b[39mshape[\u001b[38;5;241m0\u001b[39m] \u001b[38;5;28;01mif\u001b[39;00m \u001b[38;5;28mlen\u001b[39m(\u001b[38;5;28mself\u001b[39m\u001b[38;5;241m.\u001b[39mtloss\u001b[38;5;241m.\u001b[39mshape) \u001b[38;5;28;01melse\u001b[39;00m \u001b[38;5;241m1\u001b[39m\n\u001b[1;32m--> 408\u001b[0m     \u001b[43mpbar\u001b[49m\u001b[38;5;241;43m.\u001b[39;49m\u001b[43mset_description\u001b[49m\u001b[43m(\u001b[49m\n\u001b[0;32m    409\u001b[0m \u001b[43m        \u001b[49m\u001b[43m(\u001b[49m\u001b[38;5;124;43m\"\u001b[39;49m\u001b[38;5;132;43;01m%11s\u001b[39;49;00m\u001b[38;5;124;43m\"\u001b[39;49m\u001b[43m \u001b[49m\u001b[38;5;241;43m*\u001b[39;49m\u001b[43m \u001b[49m\u001b[38;5;241;43m2\u001b[39;49m\u001b[43m \u001b[49m\u001b[38;5;241;43m+\u001b[39;49m\u001b[43m \u001b[49m\u001b[38;5;124;43m\"\u001b[39;49m\u001b[38;5;132;43;01m%11.4g\u001b[39;49;00m\u001b[38;5;124;43m\"\u001b[39;49m\u001b[43m \u001b[49m\u001b[38;5;241;43m*\u001b[39;49m\u001b[43m \u001b[49m\u001b[43m(\u001b[49m\u001b[38;5;241;43m2\u001b[39;49m\u001b[43m \u001b[49m\u001b[38;5;241;43m+\u001b[39;49m\u001b[43m \u001b[49m\u001b[43mloss_length\u001b[49m\u001b[43m)\u001b[49m\u001b[43m)\u001b[49m\n\u001b[0;32m    410\u001b[0m \u001b[43m        \u001b[49m\u001b[38;5;241;43m%\u001b[39;49m\u001b[43m \u001b[49m\u001b[43m(\u001b[49m\n\u001b[0;32m    411\u001b[0m \u001b[43m            \u001b[49m\u001b[38;5;124;43mf\u001b[39;49m\u001b[38;5;124;43m\"\u001b[39;49m\u001b[38;5;132;43;01m{\u001b[39;49;00m\u001b[43mepoch\u001b[49m\u001b[38;5;250;43m \u001b[39;49m\u001b[38;5;241;43m+\u001b[39;49m\u001b[38;5;250;43m \u001b[39;49m\u001b[38;5;241;43m1\u001b[39;49m\u001b[38;5;132;43;01m}\u001b[39;49;00m\u001b[38;5;124;43m/\u001b[39;49m\u001b[38;5;132;43;01m{\u001b[39;49;00m\u001b[38;5;28;43mself\u001b[39;49m\u001b[38;5;241;43m.\u001b[39;49m\u001b[43mepochs\u001b[49m\u001b[38;5;132;43;01m}\u001b[39;49;00m\u001b[38;5;124;43m\"\u001b[39;49m\u001b[43m,\u001b[49m\n\u001b[0;32m    412\u001b[0m \u001b[43m            \u001b[49m\u001b[38;5;124;43mf\u001b[39;49m\u001b[38;5;124;43m\"\u001b[39;49m\u001b[38;5;132;43;01m{\u001b[39;49;00m\u001b[38;5;28;43mself\u001b[39;49m\u001b[38;5;241;43m.\u001b[39;49m\u001b[43m_get_memory\u001b[49m\u001b[43m(\u001b[49m\u001b[43m)\u001b[49m\u001b[38;5;132;43;01m:\u001b[39;49;00m\u001b[38;5;124;43m.3g\u001b[39;49m\u001b[38;5;132;43;01m}\u001b[39;49;00m\u001b[38;5;124;43mG\u001b[39;49m\u001b[38;5;124;43m\"\u001b[39;49m\u001b[43m,\u001b[49m\u001b[43m  \u001b[49m\u001b[38;5;66;43;03m# (GB) GPU memory util\u001b[39;49;00m\n\u001b[0;32m    413\u001b[0m \u001b[43m            \u001b[49m\u001b[38;5;241;43m*\u001b[39;49m\u001b[43m(\u001b[49m\u001b[38;5;28;43mself\u001b[39;49m\u001b[38;5;241;43m.\u001b[39;49m\u001b[43mtloss\u001b[49m\u001b[43m \u001b[49m\u001b[38;5;28;43;01mif\u001b[39;49;00m\u001b[43m \u001b[49m\u001b[43mloss_length\u001b[49m\u001b[43m \u001b[49m\u001b[38;5;241;43m>\u001b[39;49m\u001b[43m \u001b[49m\u001b[38;5;241;43m1\u001b[39;49m\u001b[43m \u001b[49m\u001b[38;5;28;43;01melse\u001b[39;49;00m\u001b[43m \u001b[49m\u001b[43mtorch\u001b[49m\u001b[38;5;241;43m.\u001b[39;49m\u001b[43munsqueeze\u001b[49m\u001b[43m(\u001b[49m\u001b[38;5;28;43mself\u001b[39;49m\u001b[38;5;241;43m.\u001b[39;49m\u001b[43mtloss\u001b[49m\u001b[43m,\u001b[49m\u001b[43m \u001b[49m\u001b[38;5;241;43m0\u001b[39;49m\u001b[43m)\u001b[49m\u001b[43m)\u001b[49m\u001b[43m,\u001b[49m\u001b[43m  \u001b[49m\u001b[38;5;66;43;03m# losses\u001b[39;49;00m\n\u001b[0;32m    414\u001b[0m \u001b[43m            \u001b[49m\u001b[43mbatch\u001b[49m\u001b[43m[\u001b[49m\u001b[38;5;124;43m\"\u001b[39;49m\u001b[38;5;124;43mcls\u001b[39;49m\u001b[38;5;124;43m\"\u001b[39;49m\u001b[43m]\u001b[49m\u001b[38;5;241;43m.\u001b[39;49m\u001b[43mshape\u001b[49m\u001b[43m[\u001b[49m\u001b[38;5;241;43m0\u001b[39;49m\u001b[43m]\u001b[49m\u001b[43m,\u001b[49m\u001b[43m  \u001b[49m\u001b[38;5;66;43;03m# batch size, i.e. 8\u001b[39;49;00m\n\u001b[0;32m    415\u001b[0m \u001b[43m            \u001b[49m\u001b[43mbatch\u001b[49m\u001b[43m[\u001b[49m\u001b[38;5;124;43m\"\u001b[39;49m\u001b[38;5;124;43mimg\u001b[39;49m\u001b[38;5;124;43m\"\u001b[39;49m\u001b[43m]\u001b[49m\u001b[38;5;241;43m.\u001b[39;49m\u001b[43mshape\u001b[49m\u001b[43m[\u001b[49m\u001b[38;5;241;43m-\u001b[39;49m\u001b[38;5;241;43m1\u001b[39;49m\u001b[43m]\u001b[49m\u001b[43m,\u001b[49m\u001b[43m  \u001b[49m\u001b[38;5;66;43;03m# imgsz, i.e 640\u001b[39;49;00m\n\u001b[0;32m    416\u001b[0m \u001b[43m        \u001b[49m\u001b[43m)\u001b[49m\n\u001b[0;32m    417\u001b[0m \u001b[43m    \u001b[49m\u001b[43m)\u001b[49m\n\u001b[0;32m    418\u001b[0m     \u001b[38;5;28mself\u001b[39m\u001b[38;5;241m.\u001b[39mrun_callbacks(\u001b[38;5;124m\"\u001b[39m\u001b[38;5;124mon_batch_end\u001b[39m\u001b[38;5;124m\"\u001b[39m)\n\u001b[0;32m    419\u001b[0m     \u001b[38;5;28;01mif\u001b[39;00m \u001b[38;5;28mself\u001b[39m\u001b[38;5;241m.\u001b[39margs\u001b[38;5;241m.\u001b[39mplots \u001b[38;5;129;01mand\u001b[39;00m ni \u001b[38;5;129;01min\u001b[39;00m \u001b[38;5;28mself\u001b[39m\u001b[38;5;241m.\u001b[39mplot_idx:\n",
      "File \u001b[1;32mc:\\Users\\minim\\OneDrive\\Документы\\Hackathon_nornikel\\.venv\\Lib\\site-packages\\tqdm\\std.py:1382\u001b[0m, in \u001b[0;36mtqdm.set_description\u001b[1;34m(self, desc, refresh)\u001b[0m\n\u001b[0;32m   1379\u001b[0m     \u001b[38;5;28mself\u001b[39m\u001b[38;5;241m.\u001b[39m_ema_miniters \u001b[38;5;241m=\u001b[39m EMA(\u001b[38;5;28mself\u001b[39m\u001b[38;5;241m.\u001b[39msmoothing)\n\u001b[0;32m   1380\u001b[0m     \u001b[38;5;28mself\u001b[39m\u001b[38;5;241m.\u001b[39mrefresh()\n\u001b[1;32m-> 1382\u001b[0m \u001b[38;5;28;01mdef\u001b[39;00m \u001b[38;5;21mset_description\u001b[39m(\u001b[38;5;28mself\u001b[39m, desc\u001b[38;5;241m=\u001b[39m\u001b[38;5;28;01mNone\u001b[39;00m, refresh\u001b[38;5;241m=\u001b[39m\u001b[38;5;28;01mTrue\u001b[39;00m):\n\u001b[0;32m   1383\u001b[0m \u001b[38;5;250m    \u001b[39m\u001b[38;5;124;03m\"\"\"\u001b[39;00m\n\u001b[0;32m   1384\u001b[0m \u001b[38;5;124;03m    Set/modify description of the progress bar.\u001b[39;00m\n\u001b[0;32m   1385\u001b[0m \n\u001b[1;32m   (...)\u001b[0m\n\u001b[0;32m   1390\u001b[0m \u001b[38;5;124;03m        Forces refresh [default: True].\u001b[39;00m\n\u001b[0;32m   1391\u001b[0m \u001b[38;5;124;03m    \"\"\"\u001b[39;00m\n\u001b[0;32m   1392\u001b[0m     \u001b[38;5;28mself\u001b[39m\u001b[38;5;241m.\u001b[39mdesc \u001b[38;5;241m=\u001b[39m desc \u001b[38;5;241m+\u001b[39m \u001b[38;5;124m'\u001b[39m\u001b[38;5;124m: \u001b[39m\u001b[38;5;124m'\u001b[39m \u001b[38;5;28;01mif\u001b[39;00m desc \u001b[38;5;28;01melse\u001b[39;00m \u001b[38;5;124m'\u001b[39m\u001b[38;5;124m'\u001b[39m\n",
      "\u001b[1;31mKeyboardInterrupt\u001b[0m: "
     ]
    }
   ],
   "source": [
    "train_results = model.train(\n",
    "    data=\"./data.yaml\",  # path to dataset YAML\n",
    "    epochs=70,  # number of training epochs\n",
    "    imgsz=640,  # training image size\n",
    "    device=\"0\",  # device to run on, i.e. device=0 or device=0,1,2,3 or device=cpu\n",
    "    iou = 0.5, #\n",
    "    copy_paste = 1.0, #\n",
    "    # hsv_v = 0.5, #\n",
    "    mixup= 0.2 #\n",
    "    # max_det = 100, #\n",
    "    #mask_ratio=3, #\n",
    "    # single_cls = True,\n",
    "    # patience = 20 #обучение останавливается, если метрика не выросла спустя это число эпох\n",
    "   \n",
    ")"
   ]
  },
  {
   "cell_type": "code",
   "execution_count": 4,
   "id": "2660d21c659b40fb",
   "metadata": {
    "collapsed": false
   },
   "outputs": [
    {
     "name": "stdout",
     "output_type": "stream",
     "text": [
      "Ultralytics 8.3.47  Python-3.12.7 torch-2.5.1+cu124 CUDA:0 (NVIDIA GeForce RTX 4050 Laptop GPU, 6141MiB)\n",
      "YOLOv5s summary (fused): 193 layers, 9,111,923 parameters, 0 gradients, 23.8 GFLOPs\n"
     ]
    },
    {
     "name": "stderr",
     "output_type": "stream",
     "text": [
      "\u001b[34m\u001b[1mval: \u001b[0mScanning C:\\Users\\minim\\OneDrive\\Документы\\Hackathon_nornikel\\datasets\\train_data\\labels\\val.cache... 392 images, 110 backgrounds, 0 corrupt: 100%|██████████| 392/392 [00:00<?, ?it/s]\n",
      "                 Class     Images  Instances      Box(P          R      mAP50  mAP50-95): 100%|██████████| 25/25 [00:04<00:00,  5.09it/s]\n"
     ]
    },
    {
     "name": "stdout",
     "output_type": "stream",
     "text": [
      "                   all        392       1868      0.903      0.816      0.874      0.646\n",
      "Speed: 0.3ms preprocess, 5.9ms inference, 0.0ms loss, 2.5ms postprocess per image\n",
      "Results saved to \u001b[1mruns\\detect\\train22\u001b[0m\n",
      "ultralytics.utils.metrics.DetMetrics object with attributes:\n",
      "\n",
      "ap_class_index: array([0])\n",
      "box: ultralytics.utils.metrics.Metric object\n",
      "confusion_matrix: <ultralytics.utils.metrics.ConfusionMatrix object at 0x000001AE0A827470>\n",
      "curves: ['Precision-Recall(B)', 'F1-Confidence(B)', 'Precision-Confidence(B)', 'Recall-Confidence(B)']\n",
      "curves_results: [[array([          0,    0.001001,    0.002002,    0.003003,    0.004004,    0.005005,    0.006006,    0.007007,    0.008008,    0.009009,     0.01001,    0.011011,    0.012012,    0.013013,    0.014014,    0.015015,    0.016016,    0.017017,    0.018018,    0.019019,     0.02002,    0.021021,    0.022022,    0.023023,\n",
      "          0.024024,    0.025025,    0.026026,    0.027027,    0.028028,    0.029029,     0.03003,    0.031031,    0.032032,    0.033033,    0.034034,    0.035035,    0.036036,    0.037037,    0.038038,    0.039039,     0.04004,    0.041041,    0.042042,    0.043043,    0.044044,    0.045045,    0.046046,    0.047047,\n",
      "          0.048048,    0.049049,     0.05005,    0.051051,    0.052052,    0.053053,    0.054054,    0.055055,    0.056056,    0.057057,    0.058058,    0.059059,     0.06006,    0.061061,    0.062062,    0.063063,    0.064064,    0.065065,    0.066066,    0.067067,    0.068068,    0.069069,     0.07007,    0.071071,\n",
      "          0.072072,    0.073073,    0.074074,    0.075075,    0.076076,    0.077077,    0.078078,    0.079079,     0.08008,    0.081081,    0.082082,    0.083083,    0.084084,    0.085085,    0.086086,    0.087087,    0.088088,    0.089089,     0.09009,    0.091091,    0.092092,    0.093093,    0.094094,    0.095095,\n",
      "          0.096096,    0.097097,    0.098098,    0.099099,      0.1001,      0.1011,      0.1021,      0.1031,      0.1041,     0.10511,     0.10611,     0.10711,     0.10811,     0.10911,     0.11011,     0.11111,     0.11211,     0.11311,     0.11411,     0.11512,     0.11612,     0.11712,     0.11812,     0.11912,\n",
      "           0.12012,     0.12112,     0.12212,     0.12312,     0.12412,     0.12513,     0.12613,     0.12713,     0.12813,     0.12913,     0.13013,     0.13113,     0.13213,     0.13313,     0.13413,     0.13514,     0.13614,     0.13714,     0.13814,     0.13914,     0.14014,     0.14114,     0.14214,     0.14314,\n",
      "           0.14414,     0.14515,     0.14615,     0.14715,     0.14815,     0.14915,     0.15015,     0.15115,     0.15215,     0.15315,     0.15415,     0.15516,     0.15616,     0.15716,     0.15816,     0.15916,     0.16016,     0.16116,     0.16216,     0.16316,     0.16416,     0.16517,     0.16617,     0.16717,\n",
      "           0.16817,     0.16917,     0.17017,     0.17117,     0.17217,     0.17317,     0.17417,     0.17518,     0.17618,     0.17718,     0.17818,     0.17918,     0.18018,     0.18118,     0.18218,     0.18318,     0.18418,     0.18519,     0.18619,     0.18719,     0.18819,     0.18919,     0.19019,     0.19119,\n",
      "           0.19219,     0.19319,     0.19419,      0.1952,      0.1962,      0.1972,      0.1982,      0.1992,      0.2002,      0.2012,      0.2022,      0.2032,      0.2042,     0.20521,     0.20621,     0.20721,     0.20821,     0.20921,     0.21021,     0.21121,     0.21221,     0.21321,     0.21421,     0.21522,\n",
      "           0.21622,     0.21722,     0.21822,     0.21922,     0.22022,     0.22122,     0.22222,     0.22322,     0.22422,     0.22523,     0.22623,     0.22723,     0.22823,     0.22923,     0.23023,     0.23123,     0.23223,     0.23323,     0.23423,     0.23524,     0.23624,     0.23724,     0.23824,     0.23924,\n",
      "           0.24024,     0.24124,     0.24224,     0.24324,     0.24424,     0.24525,     0.24625,     0.24725,     0.24825,     0.24925,     0.25025,     0.25125,     0.25225,     0.25325,     0.25425,     0.25526,     0.25626,     0.25726,     0.25826,     0.25926,     0.26026,     0.26126,     0.26226,     0.26326,\n",
      "           0.26426,     0.26527,     0.26627,     0.26727,     0.26827,     0.26927,     0.27027,     0.27127,     0.27227,     0.27327,     0.27427,     0.27528,     0.27628,     0.27728,     0.27828,     0.27928,     0.28028,     0.28128,     0.28228,     0.28328,     0.28428,     0.28529,     0.28629,     0.28729,\n",
      "           0.28829,     0.28929,     0.29029,     0.29129,     0.29229,     0.29329,     0.29429,      0.2953,      0.2963,      0.2973,      0.2983,      0.2993,      0.3003,      0.3013,      0.3023,      0.3033,      0.3043,     0.30531,     0.30631,     0.30731,     0.30831,     0.30931,     0.31031,     0.31131,\n",
      "           0.31231,     0.31331,     0.31431,     0.31532,     0.31632,     0.31732,     0.31832,     0.31932,     0.32032,     0.32132,     0.32232,     0.32332,     0.32432,     0.32533,     0.32633,     0.32733,     0.32833,     0.32933,     0.33033,     0.33133,     0.33233,     0.33333,     0.33433,     0.33534,\n",
      "           0.33634,     0.33734,     0.33834,     0.33934,     0.34034,     0.34134,     0.34234,     0.34334,     0.34434,     0.34535,     0.34635,     0.34735,     0.34835,     0.34935,     0.35035,     0.35135,     0.35235,     0.35335,     0.35435,     0.35536,     0.35636,     0.35736,     0.35836,     0.35936,\n",
      "           0.36036,     0.36136,     0.36236,     0.36336,     0.36436,     0.36537,     0.36637,     0.36737,     0.36837,     0.36937,     0.37037,     0.37137,     0.37237,     0.37337,     0.37437,     0.37538,     0.37638,     0.37738,     0.37838,     0.37938,     0.38038,     0.38138,     0.38238,     0.38338,\n",
      "           0.38438,     0.38539,     0.38639,     0.38739,     0.38839,     0.38939,     0.39039,     0.39139,     0.39239,     0.39339,     0.39439,      0.3954,      0.3964,      0.3974,      0.3984,      0.3994,      0.4004,      0.4014,      0.4024,      0.4034,      0.4044,     0.40541,     0.40641,     0.40741,\n",
      "           0.40841,     0.40941,     0.41041,     0.41141,     0.41241,     0.41341,     0.41441,     0.41542,     0.41642,     0.41742,     0.41842,     0.41942,     0.42042,     0.42142,     0.42242,     0.42342,     0.42442,     0.42543,     0.42643,     0.42743,     0.42843,     0.42943,     0.43043,     0.43143,\n",
      "           0.43243,     0.43343,     0.43443,     0.43544,     0.43644,     0.43744,     0.43844,     0.43944,     0.44044,     0.44144,     0.44244,     0.44344,     0.44444,     0.44545,     0.44645,     0.44745,     0.44845,     0.44945,     0.45045,     0.45145,     0.45245,     0.45345,     0.45445,     0.45546,\n",
      "           0.45646,     0.45746,     0.45846,     0.45946,     0.46046,     0.46146,     0.46246,     0.46346,     0.46446,     0.46547,     0.46647,     0.46747,     0.46847,     0.46947,     0.47047,     0.47147,     0.47247,     0.47347,     0.47447,     0.47548,     0.47648,     0.47748,     0.47848,     0.47948,\n",
      "           0.48048,     0.48148,     0.48248,     0.48348,     0.48448,     0.48549,     0.48649,     0.48749,     0.48849,     0.48949,     0.49049,     0.49149,     0.49249,     0.49349,     0.49449,      0.4955,      0.4965,      0.4975,      0.4985,      0.4995,      0.5005,      0.5015,      0.5025,      0.5035,\n",
      "            0.5045,     0.50551,     0.50651,     0.50751,     0.50851,     0.50951,     0.51051,     0.51151,     0.51251,     0.51351,     0.51451,     0.51552,     0.51652,     0.51752,     0.51852,     0.51952,     0.52052,     0.52152,     0.52252,     0.52352,     0.52452,     0.52553,     0.52653,     0.52753,\n",
      "           0.52853,     0.52953,     0.53053,     0.53153,     0.53253,     0.53353,     0.53453,     0.53554,     0.53654,     0.53754,     0.53854,     0.53954,     0.54054,     0.54154,     0.54254,     0.54354,     0.54454,     0.54555,     0.54655,     0.54755,     0.54855,     0.54955,     0.55055,     0.55155,\n",
      "           0.55255,     0.55355,     0.55455,     0.55556,     0.55656,     0.55756,     0.55856,     0.55956,     0.56056,     0.56156,     0.56256,     0.56356,     0.56456,     0.56557,     0.56657,     0.56757,     0.56857,     0.56957,     0.57057,     0.57157,     0.57257,     0.57357,     0.57457,     0.57558,\n",
      "           0.57658,     0.57758,     0.57858,     0.57958,     0.58058,     0.58158,     0.58258,     0.58358,     0.58458,     0.58559,     0.58659,     0.58759,     0.58859,     0.58959,     0.59059,     0.59159,     0.59259,     0.59359,     0.59459,      0.5956,      0.5966,      0.5976,      0.5986,      0.5996,\n",
      "            0.6006,      0.6016,      0.6026,      0.6036,      0.6046,     0.60561,     0.60661,     0.60761,     0.60861,     0.60961,     0.61061,     0.61161,     0.61261,     0.61361,     0.61461,     0.61562,     0.61662,     0.61762,     0.61862,     0.61962,     0.62062,     0.62162,     0.62262,     0.62362,\n",
      "           0.62462,     0.62563,     0.62663,     0.62763,     0.62863,     0.62963,     0.63063,     0.63163,     0.63263,     0.63363,     0.63463,     0.63564,     0.63664,     0.63764,     0.63864,     0.63964,     0.64064,     0.64164,     0.64264,     0.64364,     0.64464,     0.64565,     0.64665,     0.64765,\n",
      "           0.64865,     0.64965,     0.65065,     0.65165,     0.65265,     0.65365,     0.65465,     0.65566,     0.65666,     0.65766,     0.65866,     0.65966,     0.66066,     0.66166,     0.66266,     0.66366,     0.66466,     0.66567,     0.66667,     0.66767,     0.66867,     0.66967,     0.67067,     0.67167,\n",
      "           0.67267,     0.67367,     0.67467,     0.67568,     0.67668,     0.67768,     0.67868,     0.67968,     0.68068,     0.68168,     0.68268,     0.68368,     0.68468,     0.68569,     0.68669,     0.68769,     0.68869,     0.68969,     0.69069,     0.69169,     0.69269,     0.69369,     0.69469,      0.6957,\n",
      "            0.6967,      0.6977,      0.6987,      0.6997,      0.7007,      0.7017,      0.7027,      0.7037,      0.7047,     0.70571,     0.70671,     0.70771,     0.70871,     0.70971,     0.71071,     0.71171,     0.71271,     0.71371,     0.71471,     0.71572,     0.71672,     0.71772,     0.71872,     0.71972,\n",
      "           0.72072,     0.72172,     0.72272,     0.72372,     0.72472,     0.72573,     0.72673,     0.72773,     0.72873,     0.72973,     0.73073,     0.73173,     0.73273,     0.73373,     0.73473,     0.73574,     0.73674,     0.73774,     0.73874,     0.73974,     0.74074,     0.74174,     0.74274,     0.74374,\n",
      "           0.74474,     0.74575,     0.74675,     0.74775,     0.74875,     0.74975,     0.75075,     0.75175,     0.75275,     0.75375,     0.75475,     0.75576,     0.75676,     0.75776,     0.75876,     0.75976,     0.76076,     0.76176,     0.76276,     0.76376,     0.76476,     0.76577,     0.76677,     0.76777,\n",
      "           0.76877,     0.76977,     0.77077,     0.77177,     0.77277,     0.77377,     0.77477,     0.77578,     0.77678,     0.77778,     0.77878,     0.77978,     0.78078,     0.78178,     0.78278,     0.78378,     0.78478,     0.78579,     0.78679,     0.78779,     0.78879,     0.78979,     0.79079,     0.79179,\n",
      "           0.79279,     0.79379,     0.79479,      0.7958,      0.7968,      0.7978,      0.7988,      0.7998,      0.8008,      0.8018,      0.8028,      0.8038,      0.8048,     0.80581,     0.80681,     0.80781,     0.80881,     0.80981,     0.81081,     0.81181,     0.81281,     0.81381,     0.81481,     0.81582,\n",
      "           0.81682,     0.81782,     0.81882,     0.81982,     0.82082,     0.82182,     0.82282,     0.82382,     0.82482,     0.82583,     0.82683,     0.82783,     0.82883,     0.82983,     0.83083,     0.83183,     0.83283,     0.83383,     0.83483,     0.83584,     0.83684,     0.83784,     0.83884,     0.83984,\n",
      "           0.84084,     0.84184,     0.84284,     0.84384,     0.84484,     0.84585,     0.84685,     0.84785,     0.84885,     0.84985,     0.85085,     0.85185,     0.85285,     0.85385,     0.85485,     0.85586,     0.85686,     0.85786,     0.85886,     0.85986,     0.86086,     0.86186,     0.86286,     0.86386,\n",
      "           0.86486,     0.86587,     0.86687,     0.86787,     0.86887,     0.86987,     0.87087,     0.87187,     0.87287,     0.87387,     0.87487,     0.87588,     0.87688,     0.87788,     0.87888,     0.87988,     0.88088,     0.88188,     0.88288,     0.88388,     0.88488,     0.88589,     0.88689,     0.88789,\n",
      "           0.88889,     0.88989,     0.89089,     0.89189,     0.89289,     0.89389,     0.89489,      0.8959,      0.8969,      0.8979,      0.8989,      0.8999,      0.9009,      0.9019,      0.9029,      0.9039,      0.9049,     0.90591,     0.90691,     0.90791,     0.90891,     0.90991,     0.91091,     0.91191,\n",
      "           0.91291,     0.91391,     0.91491,     0.91592,     0.91692,     0.91792,     0.91892,     0.91992,     0.92092,     0.92192,     0.92292,     0.92392,     0.92492,     0.92593,     0.92693,     0.92793,     0.92893,     0.92993,     0.93093,     0.93193,     0.93293,     0.93393,     0.93493,     0.93594,\n",
      "           0.93694,     0.93794,     0.93894,     0.93994,     0.94094,     0.94194,     0.94294,     0.94394,     0.94494,     0.94595,     0.94695,     0.94795,     0.94895,     0.94995,     0.95095,     0.95195,     0.95295,     0.95395,     0.95495,     0.95596,     0.95696,     0.95796,     0.95896,     0.95996,\n",
      "           0.96096,     0.96196,     0.96296,     0.96396,     0.96496,     0.96597,     0.96697,     0.96797,     0.96897,     0.96997,     0.97097,     0.97197,     0.97297,     0.97397,     0.97497,     0.97598,     0.97698,     0.97798,     0.97898,     0.97998,     0.98098,     0.98198,     0.98298,     0.98398,\n",
      "           0.98498,     0.98599,     0.98699,     0.98799,     0.98899,     0.98999,     0.99099,     0.99199,     0.99299,     0.99399,     0.99499,       0.996,       0.997,       0.998,       0.999,           1]), array([[          1,           1,           1,           1,           1,           1,           1,           1,           1,           1,           1,           1,           1,           1,           1,           1,      0.9939,      0.9939,      0.9939,      0.9939,      0.9939,      0.9939,      0.9939,\n",
      "             0.9939,      0.9939,      0.9939,      0.9939,      0.9939,      0.9939,      0.9939,      0.9939,      0.9939,      0.9939,      0.9939,      0.9939,      0.9939,      0.9939,      0.9939,      0.9939,      0.9939,      0.9939,      0.9939,      0.9939,      0.9939,      0.9939,      0.9939,\n",
      "             0.9939,      0.9939,      0.9939,      0.9939,      0.9939,      0.9939,      0.9939,      0.9939,      0.9939,      0.9939,      0.9939,      0.9939,      0.9939,      0.9939,      0.9939,      0.9939,      0.9939,      0.9939,      0.9939,      0.9939,      0.9939,      0.9939,      0.9939,\n",
      "             0.9939,      0.9939,      0.9939,      0.9939,      0.9939,      0.9939,      0.9939,      0.9939,      0.9939,      0.9939,      0.9939,      0.9939,      0.9939,      0.9939,      0.9939,      0.9939,      0.9939,      0.9939,      0.9939,      0.9939,      0.9939,      0.9939,      0.9939,\n",
      "             0.9939,      0.9939,      0.9939,      0.9939,      0.9939,      0.9939,      0.9939,      0.9939,      0.9939,      0.9939,      0.9939,      0.9939,      0.9939,      0.9939,      0.9939,      0.9939,      0.9939,      0.9939,      0.9939,      0.9939,      0.9939,      0.9939,      0.9939,\n",
      "             0.9939,      0.9939,      0.9939,      0.9939,      0.9939,      0.9939,      0.9939,      0.9939,      0.9939,      0.9939,      0.9939,      0.9939,      0.9939,      0.9939,      0.9939,      0.9939,      0.9939,      0.9939,      0.9939,      0.9939,      0.9939,      0.9939,      0.9939,\n",
      "             0.9939,      0.9939,      0.9939,      0.9939,      0.9939,      0.9939,      0.9939,      0.9939,      0.9939,      0.9939,      0.9939,      0.9939,      0.9939,      0.9939,      0.9939,      0.9939,      0.9939,      0.9939,      0.9939,      0.9939,      0.9939,      0.9939,      0.9939,\n",
      "             0.9939,      0.9939,      0.9939,      0.9939,      0.9939,      0.9939,      0.9939,      0.9939,      0.9939,      0.9939,      0.9939,      0.9939,      0.9939,      0.9939,     0.99233,     0.99233,     0.99233,     0.99233,     0.99233,     0.99233,     0.99233,     0.99233,     0.99233,\n",
      "            0.99233,     0.99233,     0.99233,     0.99233,     0.99233,     0.99233,     0.99233,     0.99233,     0.99233,     0.99233,     0.99233,     0.99233,     0.99233,     0.99233,     0.99233,     0.99233,     0.99233,     0.99233,     0.99233,     0.99233,     0.99233,     0.99233,     0.99233,\n",
      "            0.99233,     0.99063,     0.99063,     0.99063,     0.99063,     0.99063,     0.99063,     0.99063,     0.99063,     0.99063,     0.99063,     0.99063,     0.99063,     0.99063,     0.99063,     0.99063,     0.99063,     0.99063,     0.99063,     0.99063,     0.98963,     0.98963,     0.98963,\n",
      "            0.98963,     0.98963,     0.98963,     0.98963,     0.98963,     0.98963,     0.98963,     0.98963,     0.98963,     0.98963,     0.98963,     0.98963,     0.98963,     0.98963,     0.98963,     0.98963,     0.98963,     0.98963,     0.98963,     0.98963,     0.98963,     0.98963,     0.98963,\n",
      "            0.98963,     0.98963,     0.98963,     0.98837,     0.98837,     0.98837,     0.98837,     0.98837,     0.98837,     0.98837,     0.98837,     0.98837,     0.98837,     0.98837,     0.98837,     0.98837,     0.98837,     0.98837,     0.98837,     0.98837,     0.98808,     0.98808,     0.98808,\n",
      "            0.98808,     0.98808,     0.98808,     0.98808,     0.98808,     0.98808,     0.98808,     0.98808,     0.98808,     0.98808,     0.98808,     0.98808,     0.98808,     0.98808,     0.98808,     0.98808,     0.98808,     0.98808,     0.98808,     0.98808,     0.98808,     0.98808,     0.98808,\n",
      "            0.98808,     0.98808,     0.98808,     0.98808,     0.98808,     0.98808,     0.98808,     0.98808,     0.98808,     0.98808,     0.98808,     0.98808,     0.98808,     0.98808,     0.98808,     0.98808,     0.98808,     0.98808,     0.98808,     0.98808,     0.98808,     0.98808,     0.98808,\n",
      "            0.98808,     0.98808,     0.98808,     0.98808,     0.98808,     0.98808,     0.98808,     0.98808,     0.98808,     0.98808,     0.98808,     0.98808,     0.98808,     0.98808,     0.98808,     0.98808,     0.98808,     0.98808,     0.98808,     0.98808,     0.98808,     0.98808,     0.98808,\n",
      "            0.98808,     0.98808,     0.98808,     0.98808,     0.98808,     0.98808,     0.98808,     0.98808,     0.98808,     0.98808,     0.98752,     0.98752,     0.98752,     0.98752,     0.98752,     0.98752,     0.98752,     0.98752,     0.98752,     0.98752,     0.98752,     0.98752,     0.98752,\n",
      "            0.98752,     0.98752,     0.98752,     0.98752,     0.98752,     0.98752,     0.98752,     0.98752,     0.98752,     0.98752,     0.98752,     0.98752,     0.98752,     0.98628,     0.98628,     0.98628,     0.98628,     0.98541,     0.98541,     0.98541,     0.98541,     0.98541,     0.98541,\n",
      "            0.98541,     0.98541,     0.98541,     0.98541,     0.98541,     0.98541,     0.98541,     0.98444,     0.98444,     0.98444,     0.98444,     0.98444,     0.98444,     0.98444,     0.98444,     0.98381,     0.98381,     0.98381,     0.98381,     0.98381,     0.98381,     0.98381,     0.98381,\n",
      "            0.98381,     0.98381,     0.98381,     0.98381,     0.98381,     0.98381,     0.98381,     0.98381,     0.98381,     0.98299,     0.98299,     0.98299,     0.98299,     0.98299,     0.98299,     0.98299,     0.98299,     0.98299,     0.98299,     0.98292,     0.98292,     0.98292,     0.98292,\n",
      "            0.98292,     0.98292,     0.98292,     0.98292,     0.98292,     0.98292,     0.98292,     0.98292,     0.98292,     0.98292,     0.98292,     0.98292,     0.98292,     0.98292,     0.98292,     0.98292,     0.98292,     0.98292,     0.98292,     0.98292,     0.98292,     0.98292,     0.98292,\n",
      "            0.98292,     0.98292,     0.98234,     0.98234,     0.98234,     0.98234,     0.98234,     0.98234,     0.98234,     0.98234,     0.98234,     0.98234,     0.98234,     0.98234,     0.98234,     0.98234,     0.98188,     0.98188,     0.98188,     0.98188,     0.98188,     0.98188,     0.98188,\n",
      "            0.98188,     0.98188,     0.98188,     0.98188,     0.98188,     0.98188,     0.98188,     0.98188,     0.98188,     0.98188,      0.9815,      0.9815,      0.9815,      0.9815,      0.9815,      0.9815,      0.9815,      0.9815,      0.9815,      0.9815,      0.9815,      0.9815,      0.9815,\n",
      "             0.9815,      0.9815,      0.9815,      0.9815,      0.9815,     0.98119,     0.98119,     0.98119,     0.98119,     0.98119,     0.98119,     0.98119,     0.98119,     0.98119,     0.98119,     0.98119,     0.98119,     0.98119,     0.98119,     0.98119,     0.98119,     0.98119,     0.98119,\n",
      "            0.98119,     0.98041,     0.98041,     0.98041,     0.98041,     0.98041,     0.98041,     0.98013,     0.98013,     0.98013,     0.98013,     0.98013,     0.98013,     0.98013,     0.98013,     0.98013,     0.98013,     0.98013,     0.98013,     0.98013,     0.98013,     0.98013,     0.98013,\n",
      "            0.98013,     0.98013,     0.98013,     0.97948,     0.97948,     0.97948,     0.97948,     0.97948,     0.97948,     0.97948,     0.97905,     0.97905,     0.97905,     0.97905,     0.97905,     0.97905,     0.97905,     0.97905,     0.97905,     0.97905,     0.97905,     0.97905,     0.97905,\n",
      "            0.97828,     0.97828,     0.97828,     0.97828,     0.97782,     0.97782,     0.97782,     0.97782,     0.97782,     0.97782,     0.97782,     0.97782,     0.97782,     0.97782,     0.97782,     0.97711,     0.97711,     0.97711,     0.97711,     0.97548,     0.97548,     0.97467,     0.97403,\n",
      "            0.97403,     0.97403,     0.97403,     0.97403,     0.97332,     0.97332,     0.97332,     0.97172,     0.97172,     0.97011,     0.96939,     0.96939,     0.96785,     0.96785,     0.96709,     0.96689,     0.96689,     0.96689,     0.96689,     0.96689,     0.96689,     0.96689,     0.96689,\n",
      "            0.96689,     0.96689,     0.96689,     0.96689,     0.96623,     0.96623,     0.96623,     0.96594,     0.96594,     0.96594,     0.96594,     0.96594,     0.96594,     0.96594,     0.96594,     0.96594,     0.96538,     0.96538,     0.96538,     0.96538,     0.96538,     0.96472,     0.96472,\n",
      "            0.96445,     0.96445,     0.96445,     0.96445,     0.96445,     0.96445,     0.96445,     0.96445,     0.96445,      0.9644,      0.9644,      0.9644,      0.9644,      0.9644,      0.9644,      0.9644,      0.9644,      0.9644,      0.9644,      0.9644,      0.9644,      0.9644,      0.9644,\n",
      "            0.96296,     0.96234,     0.96234,     0.96174,     0.96174,     0.96174,     0.96128,     0.96128,     0.96128,     0.96128,     0.96128,     0.96075,     0.96075,     0.96075,     0.96018,     0.96018,     0.96018,     0.95961,     0.95961,     0.95961,     0.95896,     0.95867,     0.95867,\n",
      "            0.95867,     0.95867,     0.95867,     0.95867,     0.95867,     0.95818,     0.95818,     0.95818,     0.95818,     0.95687,     0.95687,     0.95488,     0.95432,     0.95432,     0.95432,     0.95432,     0.95432,     0.95432,     0.95432,     0.95432,     0.95432,     0.95432,     0.95432,\n",
      "            0.95432,     0.95432,     0.95432,     0.95316,     0.95316,     0.95316,     0.95188,     0.95115,     0.95115,     0.95115,     0.95115,     0.95115,     0.95115,     0.95115,     0.95115,     0.95115,     0.95059,     0.95059,     0.94938,     0.94938,     0.94867,     0.94867,     0.94867,\n",
      "            0.94867,     0.94867,     0.94867,     0.94867,     0.94867,     0.94867,     0.94826,     0.94826,     0.94826,     0.94659,     0.94659,     0.94659,     0.94659,     0.94598,     0.94542,     0.94489,      0.9443,     0.94311,     0.94274,     0.94274,     0.94274,     0.94274,     0.94223,\n",
      "            0.94172,     0.94172,     0.93997,     0.93997,     0.93779,     0.93779,     0.93779,     0.93734,     0.93734,     0.93697,     0.93697,     0.93697,     0.93697,     0.93584,     0.93553,     0.93553,     0.93553,     0.93436,     0.93299,     0.93299,     0.93299,     0.93299,     0.93299,\n",
      "            0.93244,     0.93193,     0.93139,     0.92916,     0.92808,     0.92763,     0.92763,     0.92365,     0.92317,     0.92274,     0.92274,     0.92241,     0.92241,     0.92146,     0.92146,     0.92042,      0.9199,     0.91887,     0.91784,     0.91738,     0.91631,      0.9154,      0.9154,\n",
      "            0.91328,     0.91228,     0.91123,     0.90844,     0.90844,     0.90844,     0.90844,     0.90741,     0.90649,     0.90606,     0.90606,     0.90136,     0.89994,     0.89906,     0.89906,     0.89865,     0.89458,     0.89431,     0.89431,      0.8923,     0.89036,     0.88488,     0.87557,\n",
      "            0.87514,     0.87331,     0.87191,     0.86581,     0.86349,     0.85935,     0.85864,     0.85683,        0.85,     0.84694,     0.84483,      0.8431,     0.84281,     0.84126,     0.83599,     0.83483,     0.83413,      0.8243,      0.8231,     0.82158,     0.81542,     0.81352,     0.81081,\n",
      "            0.80658,     0.80343,      0.7976,     0.79571,     0.78924,     0.78673,     0.77967,     0.77762,     0.77371,     0.76839,     0.76703,     0.76254,     0.76024,     0.75046,     0.75046,     0.74517,     0.74166,     0.73451,     0.72687,     0.72472,     0.71447,     0.71099,     0.71093,\n",
      "            0.70565,     0.69672,      0.6939,     0.69315,     0.68732,     0.66478,      0.6584,     0.65449,     0.64028,     0.63029,     0.62828,     0.62125,      0.6032,     0.59762,     0.58817,     0.58536,     0.58054,     0.56223,     0.56011,     0.55097,     0.53555,       0.535,     0.51082,\n",
      "            0.51065,     0.50863,     0.47893,     0.46946,     0.45627,     0.45071,     0.44122,     0.42562,     0.41052,     0.40328,     0.40009,     0.38794,     0.38444,     0.38325,     0.36194,     0.33484,     0.33152,      0.3235,     0.32017,     0.30982,     0.29211,     0.28051,     0.26442,\n",
      "            0.24267,     0.22992,      0.2137,     0.20656,     0.19459,     0.17375,     0.16439,     0.16016,     0.13824,     0.13702,     0.13702,     0.13594,     0.10908,     0.10251,    0.092497,    0.087669,    0.073294,    0.063452,    0.062232,    0.061212,    0.060192,    0.059172,    0.058151,\n",
      "           0.057131,    0.056111,    0.055091,    0.054071,     0.05305,     0.05203,     0.05101,     0.04999,     0.04897,    0.047949,    0.046929,    0.045909,    0.044889,    0.043869,    0.042848,    0.041828,    0.040808,    0.039788,    0.038768,    0.037747,    0.036727,    0.035707,    0.034687,\n",
      "           0.033667,    0.032646,    0.031626,    0.030606,    0.029586,    0.028566,    0.027545,    0.026525,    0.025505,    0.024485,    0.023465,    0.022444,    0.021424,    0.020404,    0.019384,    0.018364,    0.017343,    0.016323,    0.015303,    0.014283,    0.013263,    0.012242,    0.011222,\n",
      "           0.010202,   0.0091818,   0.0081616,   0.0071414,   0.0061212,    0.005101,   0.0040808,   0.0030606,   0.0020404,   0.0010202,           0]]), 'Recall', 'Precision'], [array([          0,    0.001001,    0.002002,    0.003003,    0.004004,    0.005005,    0.006006,    0.007007,    0.008008,    0.009009,     0.01001,    0.011011,    0.012012,    0.013013,    0.014014,    0.015015,    0.016016,    0.017017,    0.018018,    0.019019,     0.02002,    0.021021,    0.022022,    0.023023,\n",
      "          0.024024,    0.025025,    0.026026,    0.027027,    0.028028,    0.029029,     0.03003,    0.031031,    0.032032,    0.033033,    0.034034,    0.035035,    0.036036,    0.037037,    0.038038,    0.039039,     0.04004,    0.041041,    0.042042,    0.043043,    0.044044,    0.045045,    0.046046,    0.047047,\n",
      "          0.048048,    0.049049,     0.05005,    0.051051,    0.052052,    0.053053,    0.054054,    0.055055,    0.056056,    0.057057,    0.058058,    0.059059,     0.06006,    0.061061,    0.062062,    0.063063,    0.064064,    0.065065,    0.066066,    0.067067,    0.068068,    0.069069,     0.07007,    0.071071,\n",
      "          0.072072,    0.073073,    0.074074,    0.075075,    0.076076,    0.077077,    0.078078,    0.079079,     0.08008,    0.081081,    0.082082,    0.083083,    0.084084,    0.085085,    0.086086,    0.087087,    0.088088,    0.089089,     0.09009,    0.091091,    0.092092,    0.093093,    0.094094,    0.095095,\n",
      "          0.096096,    0.097097,    0.098098,    0.099099,      0.1001,      0.1011,      0.1021,      0.1031,      0.1041,     0.10511,     0.10611,     0.10711,     0.10811,     0.10911,     0.11011,     0.11111,     0.11211,     0.11311,     0.11411,     0.11512,     0.11612,     0.11712,     0.11812,     0.11912,\n",
      "           0.12012,     0.12112,     0.12212,     0.12312,     0.12412,     0.12513,     0.12613,     0.12713,     0.12813,     0.12913,     0.13013,     0.13113,     0.13213,     0.13313,     0.13413,     0.13514,     0.13614,     0.13714,     0.13814,     0.13914,     0.14014,     0.14114,     0.14214,     0.14314,\n",
      "           0.14414,     0.14515,     0.14615,     0.14715,     0.14815,     0.14915,     0.15015,     0.15115,     0.15215,     0.15315,     0.15415,     0.15516,     0.15616,     0.15716,     0.15816,     0.15916,     0.16016,     0.16116,     0.16216,     0.16316,     0.16416,     0.16517,     0.16617,     0.16717,\n",
      "           0.16817,     0.16917,     0.17017,     0.17117,     0.17217,     0.17317,     0.17417,     0.17518,     0.17618,     0.17718,     0.17818,     0.17918,     0.18018,     0.18118,     0.18218,     0.18318,     0.18418,     0.18519,     0.18619,     0.18719,     0.18819,     0.18919,     0.19019,     0.19119,\n",
      "           0.19219,     0.19319,     0.19419,      0.1952,      0.1962,      0.1972,      0.1982,      0.1992,      0.2002,      0.2012,      0.2022,      0.2032,      0.2042,     0.20521,     0.20621,     0.20721,     0.20821,     0.20921,     0.21021,     0.21121,     0.21221,     0.21321,     0.21421,     0.21522,\n",
      "           0.21622,     0.21722,     0.21822,     0.21922,     0.22022,     0.22122,     0.22222,     0.22322,     0.22422,     0.22523,     0.22623,     0.22723,     0.22823,     0.22923,     0.23023,     0.23123,     0.23223,     0.23323,     0.23423,     0.23524,     0.23624,     0.23724,     0.23824,     0.23924,\n",
      "           0.24024,     0.24124,     0.24224,     0.24324,     0.24424,     0.24525,     0.24625,     0.24725,     0.24825,     0.24925,     0.25025,     0.25125,     0.25225,     0.25325,     0.25425,     0.25526,     0.25626,     0.25726,     0.25826,     0.25926,     0.26026,     0.26126,     0.26226,     0.26326,\n",
      "           0.26426,     0.26527,     0.26627,     0.26727,     0.26827,     0.26927,     0.27027,     0.27127,     0.27227,     0.27327,     0.27427,     0.27528,     0.27628,     0.27728,     0.27828,     0.27928,     0.28028,     0.28128,     0.28228,     0.28328,     0.28428,     0.28529,     0.28629,     0.28729,\n",
      "           0.28829,     0.28929,     0.29029,     0.29129,     0.29229,     0.29329,     0.29429,      0.2953,      0.2963,      0.2973,      0.2983,      0.2993,      0.3003,      0.3013,      0.3023,      0.3033,      0.3043,     0.30531,     0.30631,     0.30731,     0.30831,     0.30931,     0.31031,     0.31131,\n",
      "           0.31231,     0.31331,     0.31431,     0.31532,     0.31632,     0.31732,     0.31832,     0.31932,     0.32032,     0.32132,     0.32232,     0.32332,     0.32432,     0.32533,     0.32633,     0.32733,     0.32833,     0.32933,     0.33033,     0.33133,     0.33233,     0.33333,     0.33433,     0.33534,\n",
      "           0.33634,     0.33734,     0.33834,     0.33934,     0.34034,     0.34134,     0.34234,     0.34334,     0.34434,     0.34535,     0.34635,     0.34735,     0.34835,     0.34935,     0.35035,     0.35135,     0.35235,     0.35335,     0.35435,     0.35536,     0.35636,     0.35736,     0.35836,     0.35936,\n",
      "           0.36036,     0.36136,     0.36236,     0.36336,     0.36436,     0.36537,     0.36637,     0.36737,     0.36837,     0.36937,     0.37037,     0.37137,     0.37237,     0.37337,     0.37437,     0.37538,     0.37638,     0.37738,     0.37838,     0.37938,     0.38038,     0.38138,     0.38238,     0.38338,\n",
      "           0.38438,     0.38539,     0.38639,     0.38739,     0.38839,     0.38939,     0.39039,     0.39139,     0.39239,     0.39339,     0.39439,      0.3954,      0.3964,      0.3974,      0.3984,      0.3994,      0.4004,      0.4014,      0.4024,      0.4034,      0.4044,     0.40541,     0.40641,     0.40741,\n",
      "           0.40841,     0.40941,     0.41041,     0.41141,     0.41241,     0.41341,     0.41441,     0.41542,     0.41642,     0.41742,     0.41842,     0.41942,     0.42042,     0.42142,     0.42242,     0.42342,     0.42442,     0.42543,     0.42643,     0.42743,     0.42843,     0.42943,     0.43043,     0.43143,\n",
      "           0.43243,     0.43343,     0.43443,     0.43544,     0.43644,     0.43744,     0.43844,     0.43944,     0.44044,     0.44144,     0.44244,     0.44344,     0.44444,     0.44545,     0.44645,     0.44745,     0.44845,     0.44945,     0.45045,     0.45145,     0.45245,     0.45345,     0.45445,     0.45546,\n",
      "           0.45646,     0.45746,     0.45846,     0.45946,     0.46046,     0.46146,     0.46246,     0.46346,     0.46446,     0.46547,     0.46647,     0.46747,     0.46847,     0.46947,     0.47047,     0.47147,     0.47247,     0.47347,     0.47447,     0.47548,     0.47648,     0.47748,     0.47848,     0.47948,\n",
      "           0.48048,     0.48148,     0.48248,     0.48348,     0.48448,     0.48549,     0.48649,     0.48749,     0.48849,     0.48949,     0.49049,     0.49149,     0.49249,     0.49349,     0.49449,      0.4955,      0.4965,      0.4975,      0.4985,      0.4995,      0.5005,      0.5015,      0.5025,      0.5035,\n",
      "            0.5045,     0.50551,     0.50651,     0.50751,     0.50851,     0.50951,     0.51051,     0.51151,     0.51251,     0.51351,     0.51451,     0.51552,     0.51652,     0.51752,     0.51852,     0.51952,     0.52052,     0.52152,     0.52252,     0.52352,     0.52452,     0.52553,     0.52653,     0.52753,\n",
      "           0.52853,     0.52953,     0.53053,     0.53153,     0.53253,     0.53353,     0.53453,     0.53554,     0.53654,     0.53754,     0.53854,     0.53954,     0.54054,     0.54154,     0.54254,     0.54354,     0.54454,     0.54555,     0.54655,     0.54755,     0.54855,     0.54955,     0.55055,     0.55155,\n",
      "           0.55255,     0.55355,     0.55455,     0.55556,     0.55656,     0.55756,     0.55856,     0.55956,     0.56056,     0.56156,     0.56256,     0.56356,     0.56456,     0.56557,     0.56657,     0.56757,     0.56857,     0.56957,     0.57057,     0.57157,     0.57257,     0.57357,     0.57457,     0.57558,\n",
      "           0.57658,     0.57758,     0.57858,     0.57958,     0.58058,     0.58158,     0.58258,     0.58358,     0.58458,     0.58559,     0.58659,     0.58759,     0.58859,     0.58959,     0.59059,     0.59159,     0.59259,     0.59359,     0.59459,      0.5956,      0.5966,      0.5976,      0.5986,      0.5996,\n",
      "            0.6006,      0.6016,      0.6026,      0.6036,      0.6046,     0.60561,     0.60661,     0.60761,     0.60861,     0.60961,     0.61061,     0.61161,     0.61261,     0.61361,     0.61461,     0.61562,     0.61662,     0.61762,     0.61862,     0.61962,     0.62062,     0.62162,     0.62262,     0.62362,\n",
      "           0.62462,     0.62563,     0.62663,     0.62763,     0.62863,     0.62963,     0.63063,     0.63163,     0.63263,     0.63363,     0.63463,     0.63564,     0.63664,     0.63764,     0.63864,     0.63964,     0.64064,     0.64164,     0.64264,     0.64364,     0.64464,     0.64565,     0.64665,     0.64765,\n",
      "           0.64865,     0.64965,     0.65065,     0.65165,     0.65265,     0.65365,     0.65465,     0.65566,     0.65666,     0.65766,     0.65866,     0.65966,     0.66066,     0.66166,     0.66266,     0.66366,     0.66466,     0.66567,     0.66667,     0.66767,     0.66867,     0.66967,     0.67067,     0.67167,\n",
      "           0.67267,     0.67367,     0.67467,     0.67568,     0.67668,     0.67768,     0.67868,     0.67968,     0.68068,     0.68168,     0.68268,     0.68368,     0.68468,     0.68569,     0.68669,     0.68769,     0.68869,     0.68969,     0.69069,     0.69169,     0.69269,     0.69369,     0.69469,      0.6957,\n",
      "            0.6967,      0.6977,      0.6987,      0.6997,      0.7007,      0.7017,      0.7027,      0.7037,      0.7047,     0.70571,     0.70671,     0.70771,     0.70871,     0.70971,     0.71071,     0.71171,     0.71271,     0.71371,     0.71471,     0.71572,     0.71672,     0.71772,     0.71872,     0.71972,\n",
      "           0.72072,     0.72172,     0.72272,     0.72372,     0.72472,     0.72573,     0.72673,     0.72773,     0.72873,     0.72973,     0.73073,     0.73173,     0.73273,     0.73373,     0.73473,     0.73574,     0.73674,     0.73774,     0.73874,     0.73974,     0.74074,     0.74174,     0.74274,     0.74374,\n",
      "           0.74474,     0.74575,     0.74675,     0.74775,     0.74875,     0.74975,     0.75075,     0.75175,     0.75275,     0.75375,     0.75475,     0.75576,     0.75676,     0.75776,     0.75876,     0.75976,     0.76076,     0.76176,     0.76276,     0.76376,     0.76476,     0.76577,     0.76677,     0.76777,\n",
      "           0.76877,     0.76977,     0.77077,     0.77177,     0.77277,     0.77377,     0.77477,     0.77578,     0.77678,     0.77778,     0.77878,     0.77978,     0.78078,     0.78178,     0.78278,     0.78378,     0.78478,     0.78579,     0.78679,     0.78779,     0.78879,     0.78979,     0.79079,     0.79179,\n",
      "           0.79279,     0.79379,     0.79479,      0.7958,      0.7968,      0.7978,      0.7988,      0.7998,      0.8008,      0.8018,      0.8028,      0.8038,      0.8048,     0.80581,     0.80681,     0.80781,     0.80881,     0.80981,     0.81081,     0.81181,     0.81281,     0.81381,     0.81481,     0.81582,\n",
      "           0.81682,     0.81782,     0.81882,     0.81982,     0.82082,     0.82182,     0.82282,     0.82382,     0.82482,     0.82583,     0.82683,     0.82783,     0.82883,     0.82983,     0.83083,     0.83183,     0.83283,     0.83383,     0.83483,     0.83584,     0.83684,     0.83784,     0.83884,     0.83984,\n",
      "           0.84084,     0.84184,     0.84284,     0.84384,     0.84484,     0.84585,     0.84685,     0.84785,     0.84885,     0.84985,     0.85085,     0.85185,     0.85285,     0.85385,     0.85485,     0.85586,     0.85686,     0.85786,     0.85886,     0.85986,     0.86086,     0.86186,     0.86286,     0.86386,\n",
      "           0.86486,     0.86587,     0.86687,     0.86787,     0.86887,     0.86987,     0.87087,     0.87187,     0.87287,     0.87387,     0.87487,     0.87588,     0.87688,     0.87788,     0.87888,     0.87988,     0.88088,     0.88188,     0.88288,     0.88388,     0.88488,     0.88589,     0.88689,     0.88789,\n",
      "           0.88889,     0.88989,     0.89089,     0.89189,     0.89289,     0.89389,     0.89489,      0.8959,      0.8969,      0.8979,      0.8989,      0.8999,      0.9009,      0.9019,      0.9029,      0.9039,      0.9049,     0.90591,     0.90691,     0.90791,     0.90891,     0.90991,     0.91091,     0.91191,\n",
      "           0.91291,     0.91391,     0.91491,     0.91592,     0.91692,     0.91792,     0.91892,     0.91992,     0.92092,     0.92192,     0.92292,     0.92392,     0.92492,     0.92593,     0.92693,     0.92793,     0.92893,     0.92993,     0.93093,     0.93193,     0.93293,     0.93393,     0.93493,     0.93594,\n",
      "           0.93694,     0.93794,     0.93894,     0.93994,     0.94094,     0.94194,     0.94294,     0.94394,     0.94494,     0.94595,     0.94695,     0.94795,     0.94895,     0.94995,     0.95095,     0.95195,     0.95295,     0.95395,     0.95495,     0.95596,     0.95696,     0.95796,     0.95896,     0.95996,\n",
      "           0.96096,     0.96196,     0.96296,     0.96396,     0.96496,     0.96597,     0.96697,     0.96797,     0.96897,     0.96997,     0.97097,     0.97197,     0.97297,     0.97397,     0.97497,     0.97598,     0.97698,     0.97798,     0.97898,     0.97998,     0.98098,     0.98198,     0.98298,     0.98398,\n",
      "           0.98498,     0.98599,     0.98699,     0.98799,     0.98899,     0.98999,     0.99099,     0.99199,     0.99299,     0.99399,     0.99499,       0.996,       0.997,       0.998,       0.999,           1]), array([[    0.11762,      0.1177,     0.19082,     0.24765,     0.28973,      0.3255,     0.35531,     0.38283,     0.40533,     0.42404,     0.44263,     0.45852,     0.47162,     0.48446,      0.4968,     0.50951,      0.5223,     0.53273,     0.54303,     0.55149,     0.56028,     0.56704,     0.57456,\n",
      "             0.5809,     0.58912,       0.596,     0.60149,     0.60776,     0.61156,     0.61606,     0.62047,     0.62479,     0.62967,     0.63525,     0.63933,     0.64286,     0.64699,     0.65055,     0.65191,     0.65525,     0.65758,     0.66055,     0.66334,     0.66656,     0.66992,     0.67177,\n",
      "            0.67462,     0.67698,     0.67977,     0.68175,     0.68329,      0.6864,     0.68914,     0.69097,     0.69309,     0.69541,     0.69882,     0.70151,     0.70293,     0.70429,      0.7063,     0.70635,      0.7075,     0.70841,     0.71006,     0.71148,     0.71442,     0.71635,     0.71762,\n",
      "            0.71929,     0.72099,     0.72323,     0.72515,     0.72562,     0.72731,     0.72826,     0.72986,     0.73123,     0.73354,     0.73492,      0.7359,     0.73702,     0.73859,      0.7396,     0.74113,     0.74257,     0.74449,     0.74573,     0.74648,     0.74782,     0.74892,     0.74977,\n",
      "            0.75101,     0.75287,     0.75346,     0.75402,      0.7547,     0.75558,     0.75633,     0.75692,     0.75735,     0.75847,     0.76037,     0.76135,     0.76339,     0.76565,      0.7661,     0.76707,     0.76801,      0.7686,      0.7691,     0.76982,     0.77067,     0.77137,     0.77133,\n",
      "             0.7723,     0.77263,     0.77348,     0.77439,     0.77472,     0.77553,     0.77593,     0.77681,     0.77764,     0.77853,     0.77949,     0.78026,     0.78086,     0.78171,     0.78252,     0.78267,     0.78291,     0.78362,     0.78369,     0.78342,     0.78385,     0.78465,     0.78499,\n",
      "            0.78542,     0.78668,     0.78705,     0.78764,     0.78854,     0.78948,     0.79015,     0.79052,     0.79046,     0.79118,     0.79182,      0.7921,     0.79245,     0.79283,     0.79337,     0.79476,     0.79512,     0.79526,      0.7957,     0.79586,       0.796,     0.79668,     0.79683,\n",
      "            0.79713,     0.79775,     0.79837,     0.79906,     0.79988,     0.80019,      0.8006,     0.80087,     0.80141,     0.80193,      0.8021,     0.80203,     0.80242,     0.80304,     0.80341,     0.80384,     0.80389,     0.80342,     0.80369,     0.80391,     0.80421,     0.80503,     0.80568,\n",
      "            0.80597,     0.80634,     0.80694,     0.80717,     0.80762,     0.80806,     0.80833,     0.80846,     0.80855,     0.80875,     0.80872,     0.80929,     0.80931,     0.80954,     0.80947,     0.81005,     0.81089,     0.81131,     0.81149,     0.81175,     0.81195,     0.81214,     0.81193,\n",
      "            0.81207,     0.81254,      0.8128,     0.81292,     0.81324,     0.81336,     0.81372,     0.81412,     0.81424,     0.81447,     0.81464,     0.81444,     0.81499,     0.81563,     0.81585,     0.81617,     0.81578,     0.81621,     0.81667,     0.81682,     0.81689,      0.8172,     0.81729,\n",
      "            0.81723,     0.81728,     0.81738,     0.81749,     0.81765,     0.81808,     0.81893,     0.81913,     0.81981,     0.82007,     0.82029,     0.82035,     0.82026,      0.8209,     0.82087,     0.82115,     0.82152,     0.82174,     0.82294,     0.82325,     0.82299,     0.82334,     0.82355,\n",
      "            0.82414,     0.82406,     0.82436,     0.82463,     0.82474,     0.82501,     0.82553,     0.82562,      0.8259,     0.82623,      0.8268,     0.82692,     0.82713,     0.82744,     0.82757,     0.82767,     0.82779,     0.82828,     0.82849,     0.82867,     0.82875,     0.82845,     0.82858,\n",
      "            0.82852,     0.82871,     0.82896,     0.82927,     0.82972,        0.83,     0.83028,     0.83053,     0.83088,     0.83101,     0.83112,     0.83124,     0.83156,     0.83162,     0.83168,     0.83174,     0.83149,     0.83158,     0.83166,     0.83188,     0.83175,     0.83159,     0.83194,\n",
      "            0.83257,     0.83293,     0.83305,     0.83318,     0.83333,     0.83351,     0.83392,     0.83393,     0.83433,     0.83427,     0.83451,     0.83466,     0.83471,     0.83461,     0.83502,     0.83493,     0.83552,     0.83592,     0.83653,     0.83699,     0.83722,     0.83741,     0.83763,\n",
      "            0.83825,      0.8386,     0.83856,      0.8389,     0.83953,     0.83941,      0.8392,     0.83931,     0.83942,     0.83954,     0.83935,     0.83956,     0.83985,     0.84019,      0.8403,     0.84043,     0.84062,      0.8408,     0.84129,     0.84188,     0.84163,     0.84119,     0.84134,\n",
      "             0.8419,     0.84171,     0.84148,     0.84147,     0.84121,     0.84134,     0.84153,     0.84209,     0.84153,     0.84167,     0.84241,     0.84261,     0.84277,     0.84289,       0.843,     0.84307,     0.84314,     0.84326,     0.84313,     0.84362,      0.8439,     0.84434,     0.84422,\n",
      "            0.84452,     0.84473,     0.84487,     0.84499,     0.84511,     0.84523,     0.84596,     0.84638,     0.84624,      0.8461,     0.84669,     0.84666,     0.84649,     0.84641,     0.84658,     0.84651,     0.84644,     0.84637,      0.8463,     0.84632,     0.84639,     0.84645,      0.8464,\n",
      "            0.84638,     0.84611,     0.84659,      0.8467,     0.84685,     0.84757,     0.84792,     0.84773,     0.84766,     0.84768,     0.84771,     0.84774,     0.84777,     0.84779,     0.84782,     0.84785,     0.84788,     0.84801,     0.84821,     0.84857,     0.84824,     0.84911,     0.84923,\n",
      "            0.84937,     0.84957,     0.84977,     0.84992,     0.85018,     0.85004,     0.85054,     0.85086,     0.85068,      0.8507,     0.85109,     0.85118,     0.85111,     0.85108,     0.85123,     0.85136,     0.85126,      0.8512,     0.85138,     0.85148,     0.85145,     0.85139,     0.85097,\n",
      "            0.85124,     0.85148,     0.85195,     0.85274,     0.85284,     0.85293,     0.85309,     0.85369,     0.85378,     0.85387,     0.85414,     0.85399,     0.85465,     0.85485,     0.85465,      0.8549,     0.85498,     0.85505,     0.85538,     0.85596,     0.85645,     0.85672,     0.85674,\n",
      "             0.8569,      0.8568,     0.85669,     0.85662,     0.85702,     0.85772,     0.85784,     0.85768,     0.85688,     0.85678,     0.85667,     0.85667,     0.85694,     0.85687,     0.85706,     0.85719,     0.85728,     0.85736,     0.85744,     0.85784,      0.8581,     0.85786,     0.85771,\n",
      "            0.85756,     0.85736,     0.85726,     0.85691,     0.85676,     0.85645,     0.85645,     0.85659,     0.85671,     0.85685,     0.85701,     0.85691,     0.85681,     0.85691,      0.8567,     0.85676,     0.85683,     0.85689,     0.85697,     0.85706,     0.85715,     0.85727,     0.85742,\n",
      "            0.85795,     0.85828,     0.85825,     0.85817,     0.85809,       0.858,     0.85818,     0.85774,     0.85759,     0.85767,     0.85775,      0.8576,     0.85773,     0.85758,     0.85678,     0.85644,     0.85628,     0.85616,     0.85605,     0.85594,     0.85554,     0.85544,     0.85534,\n",
      "            0.85541,     0.85598,     0.85587,     0.85576,     0.85598,     0.85614,     0.85629,     0.85635,     0.85646,      0.8564,     0.85634,     0.85629,     0.85623,     0.85617,     0.85638,      0.8563,     0.85644,     0.85652,     0.85603,     0.85547,     0.85588,     0.85573,     0.85586,\n",
      "            0.85604,     0.85568,     0.85559,      0.8554,     0.85514,     0.85542,     0.85513,     0.85487,      0.8553,     0.85505,     0.85514,     0.85489,     0.85473,     0.85505,     0.85489,     0.85452,     0.85383,     0.85422,     0.85393,     0.85359,     0.85316,       0.853,     0.85243,\n",
      "            0.85217,      0.8519,     0.85192,     0.85198,     0.85203,     0.85208,      0.8517,     0.85149,     0.85156,     0.85163,      0.8517,     0.85153,     0.85196,     0.85227,     0.85205,     0.85225,     0.85274,     0.85259,     0.85244,     0.85203,     0.85184,     0.85199,     0.85137,\n",
      "            0.85142,     0.85132,     0.85167,     0.85171,     0.85123,     0.85124,     0.85109,     0.85109,     0.85086,     0.85061,     0.84992,     0.84886,     0.84834,     0.84811,     0.84798,     0.84794,      0.8481,     0.84838,     0.84864,     0.84843,     0.84818,     0.84796,      0.8471,\n",
      "            0.84694,     0.84677,      0.8465,     0.84626,     0.84645,     0.84636,     0.84618,     0.84572,     0.84555,     0.84495,     0.84456,     0.84371,      0.8435,     0.84302,     0.84213,     0.84188,     0.84176,     0.84163,     0.84177,     0.84154,     0.84211,     0.84192,     0.84177,\n",
      "            0.84167,     0.84156,     0.84123,     0.84152,     0.84135,     0.84113,     0.84094,     0.84113,     0.84098,     0.84083,     0.84018,     0.83955,     0.83916,     0.83859,     0.83808,     0.83807,     0.83785,     0.83801,     0.83782,     0.83768,     0.83782,     0.83713,     0.83707,\n",
      "            0.83681,     0.83636,     0.83637,     0.83607,     0.83567,     0.83524,      0.8348,     0.83445,     0.83477,     0.83373,     0.83265,     0.83154,     0.83134,     0.83055,     0.82925,      0.8284,     0.82735,     0.82721,     0.82695,     0.82625,     0.82626,     0.82629,     0.82565,\n",
      "            0.82554,     0.82479,     0.82426,     0.82378,     0.82273,     0.82214,     0.82105,     0.82035,     0.81963,     0.81975,     0.81949,     0.81908,     0.81811,     0.81774,     0.81782,     0.81686,     0.81574,     0.81483,     0.81442,     0.81283,     0.81208,     0.81189,     0.81151,\n",
      "            0.81103,     0.81003,     0.80943,     0.80883,     0.80836,     0.80854,     0.80842,     0.80722,     0.80605,     0.80519,     0.80367,     0.80306,     0.80093,     0.80043,     0.79941,     0.79854,     0.79739,     0.79693,     0.79652,     0.79483,     0.79474,     0.79302,     0.79025,\n",
      "               0.79,     0.78887,     0.78829,     0.78734,     0.78541,     0.78462,     0.78408,      0.7831,     0.78201,     0.78065,      0.7792,     0.77909,     0.77711,     0.77578,     0.77377,     0.77178,     0.77099,     0.76873,     0.76812,     0.76627,     0.76461,     0.76398,     0.76341,\n",
      "            0.76113,      0.7602,     0.75853,     0.75707,     0.75501,     0.75255,     0.75003,     0.74868,     0.74739,     0.74634,      0.7462,     0.74623,     0.74517,     0.74297,     0.74163,     0.74036,     0.73939,     0.73857,     0.73573,     0.73264,     0.72971,       0.729,     0.72741,\n",
      "            0.72487,     0.72403,     0.72023,     0.71802,     0.71746,     0.71567,     0.71418,     0.70987,     0.70789,     0.70561,     0.70305,     0.69946,     0.69674,     0.69492,     0.69289,     0.68984,     0.68709,     0.68456,     0.68133,     0.67728,     0.67257,     0.66962,     0.66421,\n",
      "             0.6605,     0.65891,     0.65629,     0.65255,     0.65054,     0.64574,     0.64184,     0.63849,     0.63248,     0.62975,     0.62797,     0.62613,     0.61982,     0.61647,     0.61245,     0.60608,     0.60236,     0.59858,      0.5939,     0.58995,     0.58687,     0.58171,     0.57223,\n",
      "            0.56831,     0.56257,      0.5577,     0.54993,     0.54524,     0.53661,     0.52597,      0.5193,     0.50658,     0.50218,     0.49343,     0.48497,     0.48073,     0.47127,     0.46081,     0.45077,     0.44272,     0.43353,     0.42777,     0.41971,     0.41507,     0.40954,     0.39837,\n",
      "            0.39173,     0.38469,     0.37114,     0.36067,     0.34488,     0.33893,     0.32504,     0.31264,     0.30181,     0.29045,     0.28186,     0.27712,     0.26765,     0.25901,     0.25004,     0.23927,     0.22902,     0.21003,     0.20108,     0.19237,     0.18153,     0.17054,     0.16341,\n",
      "            0.15549,     0.14104,     0.13557,     0.12864,     0.11737,     0.10888,     0.10208,    0.093396,    0.089248,    0.086671,    0.085725,    0.083822,     0.08186,    0.080313,    0.075056,    0.071662,    0.065343,    0.060132,    0.054865,    0.049926,    0.048146,    0.046369,    0.043386,\n",
      "           0.038879,    0.035421,    0.032414,     0.03056,    0.027813,     0.02582,    0.024808,    0.023088,    0.022459,    0.021866,    0.021295,    0.019396,    0.018809,    0.018494,    0.018179,    0.017461,    0.015312,    0.014733,    0.014545,    0.014356,    0.014168,    0.013979,    0.013681,\n",
      "           0.012837,    0.011556,    0.011352,    0.011148,    0.010944,     0.01074,   0.0093644,   0.0068285,   0.0062666,   0.0060696,   0.0058725,   0.0056754,   0.0054782,   0.0052068,   0.0047572,   0.0043074,   0.0041847,   0.0040886,   0.0039925,   0.0038964,   0.0038003,   0.0037042,   0.0036081,\n",
      "          0.0035119,   0.0034158,   0.0033196,   0.0032235,   0.0029695,   0.0026824,   0.0023953,   0.0020704,   0.0014325,           0,           0,           0,           0,           0,           0,           0,           0,           0,           0,           0,           0,           0,           0,\n",
      "                  0,           0,           0,           0,           0,           0,           0,           0,           0,           0,           0,           0,           0,           0,           0,           0,           0,           0,           0,           0,           0,           0,           0,\n",
      "                  0,           0,           0,           0,           0,           0,           0,           0,           0,           0,           0]]), 'Confidence', 'F1'], [array([          0,    0.001001,    0.002002,    0.003003,    0.004004,    0.005005,    0.006006,    0.007007,    0.008008,    0.009009,     0.01001,    0.011011,    0.012012,    0.013013,    0.014014,    0.015015,    0.016016,    0.017017,    0.018018,    0.019019,     0.02002,    0.021021,    0.022022,    0.023023,\n",
      "          0.024024,    0.025025,    0.026026,    0.027027,    0.028028,    0.029029,     0.03003,    0.031031,    0.032032,    0.033033,    0.034034,    0.035035,    0.036036,    0.037037,    0.038038,    0.039039,     0.04004,    0.041041,    0.042042,    0.043043,    0.044044,    0.045045,    0.046046,    0.047047,\n",
      "          0.048048,    0.049049,     0.05005,    0.051051,    0.052052,    0.053053,    0.054054,    0.055055,    0.056056,    0.057057,    0.058058,    0.059059,     0.06006,    0.061061,    0.062062,    0.063063,    0.064064,    0.065065,    0.066066,    0.067067,    0.068068,    0.069069,     0.07007,    0.071071,\n",
      "          0.072072,    0.073073,    0.074074,    0.075075,    0.076076,    0.077077,    0.078078,    0.079079,     0.08008,    0.081081,    0.082082,    0.083083,    0.084084,    0.085085,    0.086086,    0.087087,    0.088088,    0.089089,     0.09009,    0.091091,    0.092092,    0.093093,    0.094094,    0.095095,\n",
      "          0.096096,    0.097097,    0.098098,    0.099099,      0.1001,      0.1011,      0.1021,      0.1031,      0.1041,     0.10511,     0.10611,     0.10711,     0.10811,     0.10911,     0.11011,     0.11111,     0.11211,     0.11311,     0.11411,     0.11512,     0.11612,     0.11712,     0.11812,     0.11912,\n",
      "           0.12012,     0.12112,     0.12212,     0.12312,     0.12412,     0.12513,     0.12613,     0.12713,     0.12813,     0.12913,     0.13013,     0.13113,     0.13213,     0.13313,     0.13413,     0.13514,     0.13614,     0.13714,     0.13814,     0.13914,     0.14014,     0.14114,     0.14214,     0.14314,\n",
      "           0.14414,     0.14515,     0.14615,     0.14715,     0.14815,     0.14915,     0.15015,     0.15115,     0.15215,     0.15315,     0.15415,     0.15516,     0.15616,     0.15716,     0.15816,     0.15916,     0.16016,     0.16116,     0.16216,     0.16316,     0.16416,     0.16517,     0.16617,     0.16717,\n",
      "           0.16817,     0.16917,     0.17017,     0.17117,     0.17217,     0.17317,     0.17417,     0.17518,     0.17618,     0.17718,     0.17818,     0.17918,     0.18018,     0.18118,     0.18218,     0.18318,     0.18418,     0.18519,     0.18619,     0.18719,     0.18819,     0.18919,     0.19019,     0.19119,\n",
      "           0.19219,     0.19319,     0.19419,      0.1952,      0.1962,      0.1972,      0.1982,      0.1992,      0.2002,      0.2012,      0.2022,      0.2032,      0.2042,     0.20521,     0.20621,     0.20721,     0.20821,     0.20921,     0.21021,     0.21121,     0.21221,     0.21321,     0.21421,     0.21522,\n",
      "           0.21622,     0.21722,     0.21822,     0.21922,     0.22022,     0.22122,     0.22222,     0.22322,     0.22422,     0.22523,     0.22623,     0.22723,     0.22823,     0.22923,     0.23023,     0.23123,     0.23223,     0.23323,     0.23423,     0.23524,     0.23624,     0.23724,     0.23824,     0.23924,\n",
      "           0.24024,     0.24124,     0.24224,     0.24324,     0.24424,     0.24525,     0.24625,     0.24725,     0.24825,     0.24925,     0.25025,     0.25125,     0.25225,     0.25325,     0.25425,     0.25526,     0.25626,     0.25726,     0.25826,     0.25926,     0.26026,     0.26126,     0.26226,     0.26326,\n",
      "           0.26426,     0.26527,     0.26627,     0.26727,     0.26827,     0.26927,     0.27027,     0.27127,     0.27227,     0.27327,     0.27427,     0.27528,     0.27628,     0.27728,     0.27828,     0.27928,     0.28028,     0.28128,     0.28228,     0.28328,     0.28428,     0.28529,     0.28629,     0.28729,\n",
      "           0.28829,     0.28929,     0.29029,     0.29129,     0.29229,     0.29329,     0.29429,      0.2953,      0.2963,      0.2973,      0.2983,      0.2993,      0.3003,      0.3013,      0.3023,      0.3033,      0.3043,     0.30531,     0.30631,     0.30731,     0.30831,     0.30931,     0.31031,     0.31131,\n",
      "           0.31231,     0.31331,     0.31431,     0.31532,     0.31632,     0.31732,     0.31832,     0.31932,     0.32032,     0.32132,     0.32232,     0.32332,     0.32432,     0.32533,     0.32633,     0.32733,     0.32833,     0.32933,     0.33033,     0.33133,     0.33233,     0.33333,     0.33433,     0.33534,\n",
      "           0.33634,     0.33734,     0.33834,     0.33934,     0.34034,     0.34134,     0.34234,     0.34334,     0.34434,     0.34535,     0.34635,     0.34735,     0.34835,     0.34935,     0.35035,     0.35135,     0.35235,     0.35335,     0.35435,     0.35536,     0.35636,     0.35736,     0.35836,     0.35936,\n",
      "           0.36036,     0.36136,     0.36236,     0.36336,     0.36436,     0.36537,     0.36637,     0.36737,     0.36837,     0.36937,     0.37037,     0.37137,     0.37237,     0.37337,     0.37437,     0.37538,     0.37638,     0.37738,     0.37838,     0.37938,     0.38038,     0.38138,     0.38238,     0.38338,\n",
      "           0.38438,     0.38539,     0.38639,     0.38739,     0.38839,     0.38939,     0.39039,     0.39139,     0.39239,     0.39339,     0.39439,      0.3954,      0.3964,      0.3974,      0.3984,      0.3994,      0.4004,      0.4014,      0.4024,      0.4034,      0.4044,     0.40541,     0.40641,     0.40741,\n",
      "           0.40841,     0.40941,     0.41041,     0.41141,     0.41241,     0.41341,     0.41441,     0.41542,     0.41642,     0.41742,     0.41842,     0.41942,     0.42042,     0.42142,     0.42242,     0.42342,     0.42442,     0.42543,     0.42643,     0.42743,     0.42843,     0.42943,     0.43043,     0.43143,\n",
      "           0.43243,     0.43343,     0.43443,     0.43544,     0.43644,     0.43744,     0.43844,     0.43944,     0.44044,     0.44144,     0.44244,     0.44344,     0.44444,     0.44545,     0.44645,     0.44745,     0.44845,     0.44945,     0.45045,     0.45145,     0.45245,     0.45345,     0.45445,     0.45546,\n",
      "           0.45646,     0.45746,     0.45846,     0.45946,     0.46046,     0.46146,     0.46246,     0.46346,     0.46446,     0.46547,     0.46647,     0.46747,     0.46847,     0.46947,     0.47047,     0.47147,     0.47247,     0.47347,     0.47447,     0.47548,     0.47648,     0.47748,     0.47848,     0.47948,\n",
      "           0.48048,     0.48148,     0.48248,     0.48348,     0.48448,     0.48549,     0.48649,     0.48749,     0.48849,     0.48949,     0.49049,     0.49149,     0.49249,     0.49349,     0.49449,      0.4955,      0.4965,      0.4975,      0.4985,      0.4995,      0.5005,      0.5015,      0.5025,      0.5035,\n",
      "            0.5045,     0.50551,     0.50651,     0.50751,     0.50851,     0.50951,     0.51051,     0.51151,     0.51251,     0.51351,     0.51451,     0.51552,     0.51652,     0.51752,     0.51852,     0.51952,     0.52052,     0.52152,     0.52252,     0.52352,     0.52452,     0.52553,     0.52653,     0.52753,\n",
      "           0.52853,     0.52953,     0.53053,     0.53153,     0.53253,     0.53353,     0.53453,     0.53554,     0.53654,     0.53754,     0.53854,     0.53954,     0.54054,     0.54154,     0.54254,     0.54354,     0.54454,     0.54555,     0.54655,     0.54755,     0.54855,     0.54955,     0.55055,     0.55155,\n",
      "           0.55255,     0.55355,     0.55455,     0.55556,     0.55656,     0.55756,     0.55856,     0.55956,     0.56056,     0.56156,     0.56256,     0.56356,     0.56456,     0.56557,     0.56657,     0.56757,     0.56857,     0.56957,     0.57057,     0.57157,     0.57257,     0.57357,     0.57457,     0.57558,\n",
      "           0.57658,     0.57758,     0.57858,     0.57958,     0.58058,     0.58158,     0.58258,     0.58358,     0.58458,     0.58559,     0.58659,     0.58759,     0.58859,     0.58959,     0.59059,     0.59159,     0.59259,     0.59359,     0.59459,      0.5956,      0.5966,      0.5976,      0.5986,      0.5996,\n",
      "            0.6006,      0.6016,      0.6026,      0.6036,      0.6046,     0.60561,     0.60661,     0.60761,     0.60861,     0.60961,     0.61061,     0.61161,     0.61261,     0.61361,     0.61461,     0.61562,     0.61662,     0.61762,     0.61862,     0.61962,     0.62062,     0.62162,     0.62262,     0.62362,\n",
      "           0.62462,     0.62563,     0.62663,     0.62763,     0.62863,     0.62963,     0.63063,     0.63163,     0.63263,     0.63363,     0.63463,     0.63564,     0.63664,     0.63764,     0.63864,     0.63964,     0.64064,     0.64164,     0.64264,     0.64364,     0.64464,     0.64565,     0.64665,     0.64765,\n",
      "           0.64865,     0.64965,     0.65065,     0.65165,     0.65265,     0.65365,     0.65465,     0.65566,     0.65666,     0.65766,     0.65866,     0.65966,     0.66066,     0.66166,     0.66266,     0.66366,     0.66466,     0.66567,     0.66667,     0.66767,     0.66867,     0.66967,     0.67067,     0.67167,\n",
      "           0.67267,     0.67367,     0.67467,     0.67568,     0.67668,     0.67768,     0.67868,     0.67968,     0.68068,     0.68168,     0.68268,     0.68368,     0.68468,     0.68569,     0.68669,     0.68769,     0.68869,     0.68969,     0.69069,     0.69169,     0.69269,     0.69369,     0.69469,      0.6957,\n",
      "            0.6967,      0.6977,      0.6987,      0.6997,      0.7007,      0.7017,      0.7027,      0.7037,      0.7047,     0.70571,     0.70671,     0.70771,     0.70871,     0.70971,     0.71071,     0.71171,     0.71271,     0.71371,     0.71471,     0.71572,     0.71672,     0.71772,     0.71872,     0.71972,\n",
      "           0.72072,     0.72172,     0.72272,     0.72372,     0.72472,     0.72573,     0.72673,     0.72773,     0.72873,     0.72973,     0.73073,     0.73173,     0.73273,     0.73373,     0.73473,     0.73574,     0.73674,     0.73774,     0.73874,     0.73974,     0.74074,     0.74174,     0.74274,     0.74374,\n",
      "           0.74474,     0.74575,     0.74675,     0.74775,     0.74875,     0.74975,     0.75075,     0.75175,     0.75275,     0.75375,     0.75475,     0.75576,     0.75676,     0.75776,     0.75876,     0.75976,     0.76076,     0.76176,     0.76276,     0.76376,     0.76476,     0.76577,     0.76677,     0.76777,\n",
      "           0.76877,     0.76977,     0.77077,     0.77177,     0.77277,     0.77377,     0.77477,     0.77578,     0.77678,     0.77778,     0.77878,     0.77978,     0.78078,     0.78178,     0.78278,     0.78378,     0.78478,     0.78579,     0.78679,     0.78779,     0.78879,     0.78979,     0.79079,     0.79179,\n",
      "           0.79279,     0.79379,     0.79479,      0.7958,      0.7968,      0.7978,      0.7988,      0.7998,      0.8008,      0.8018,      0.8028,      0.8038,      0.8048,     0.80581,     0.80681,     0.80781,     0.80881,     0.80981,     0.81081,     0.81181,     0.81281,     0.81381,     0.81481,     0.81582,\n",
      "           0.81682,     0.81782,     0.81882,     0.81982,     0.82082,     0.82182,     0.82282,     0.82382,     0.82482,     0.82583,     0.82683,     0.82783,     0.82883,     0.82983,     0.83083,     0.83183,     0.83283,     0.83383,     0.83483,     0.83584,     0.83684,     0.83784,     0.83884,     0.83984,\n",
      "           0.84084,     0.84184,     0.84284,     0.84384,     0.84484,     0.84585,     0.84685,     0.84785,     0.84885,     0.84985,     0.85085,     0.85185,     0.85285,     0.85385,     0.85485,     0.85586,     0.85686,     0.85786,     0.85886,     0.85986,     0.86086,     0.86186,     0.86286,     0.86386,\n",
      "           0.86486,     0.86587,     0.86687,     0.86787,     0.86887,     0.86987,     0.87087,     0.87187,     0.87287,     0.87387,     0.87487,     0.87588,     0.87688,     0.87788,     0.87888,     0.87988,     0.88088,     0.88188,     0.88288,     0.88388,     0.88488,     0.88589,     0.88689,     0.88789,\n",
      "           0.88889,     0.88989,     0.89089,     0.89189,     0.89289,     0.89389,     0.89489,      0.8959,      0.8969,      0.8979,      0.8989,      0.8999,      0.9009,      0.9019,      0.9029,      0.9039,      0.9049,     0.90591,     0.90691,     0.90791,     0.90891,     0.90991,     0.91091,     0.91191,\n",
      "           0.91291,     0.91391,     0.91491,     0.91592,     0.91692,     0.91792,     0.91892,     0.91992,     0.92092,     0.92192,     0.92292,     0.92392,     0.92492,     0.92593,     0.92693,     0.92793,     0.92893,     0.92993,     0.93093,     0.93193,     0.93293,     0.93393,     0.93493,     0.93594,\n",
      "           0.93694,     0.93794,     0.93894,     0.93994,     0.94094,     0.94194,     0.94294,     0.94394,     0.94494,     0.94595,     0.94695,     0.94795,     0.94895,     0.94995,     0.95095,     0.95195,     0.95295,     0.95395,     0.95495,     0.95596,     0.95696,     0.95796,     0.95896,     0.95996,\n",
      "           0.96096,     0.96196,     0.96296,     0.96396,     0.96496,     0.96597,     0.96697,     0.96797,     0.96897,     0.96997,     0.97097,     0.97197,     0.97297,     0.97397,     0.97497,     0.97598,     0.97698,     0.97798,     0.97898,     0.97998,     0.98098,     0.98198,     0.98298,     0.98398,\n",
      "           0.98498,     0.98599,     0.98699,     0.98799,     0.98899,     0.98999,     0.99099,     0.99199,     0.99299,     0.99399,     0.99499,       0.996,       0.997,       0.998,       0.999,           1]), array([[   0.062744,    0.062785,     0.10628,     0.14287,     0.17173,     0.19752,     0.22003,     0.24158,     0.25986,     0.27559,     0.29161,     0.30568,     0.31756,     0.32953,     0.34128,     0.35347,     0.36599,      0.3764,     0.38716,     0.39602,     0.40536,     0.41269,     0.42071,\n",
      "            0.42779,     0.43689,     0.44463,     0.45103,      0.4584,     0.46288,     0.46805,     0.47331,     0.47836,     0.48441,     0.49105,     0.49594,      0.5002,     0.50522,     0.50974,     0.51211,     0.51625,     0.51915,     0.52286,     0.52655,     0.53062,     0.53495,     0.53784,\n",
      "             0.5415,     0.54454,     0.54816,     0.55074,     0.55316,     0.55725,      0.5613,     0.56394,     0.56699,     0.57011,      0.5747,     0.57834,     0.58027,     0.58259,     0.58534,     0.58588,     0.58747,     0.58896,     0.59124,     0.59321,      0.5976,      0.6005,     0.60254,\n",
      "            0.60514,     0.60755,     0.61074,     0.61348,     0.61441,     0.61685,     0.61821,     0.62052,     0.62304,      0.6264,     0.62868,     0.63038,     0.63203,     0.63435,     0.63584,     0.63833,      0.6408,     0.64367,     0.64552,     0.64665,     0.64866,     0.65033,     0.65189,\n",
      "            0.65437,     0.65719,     0.65838,     0.65924,     0.66059,     0.66194,     0.66309,     0.66399,     0.66474,     0.66669,     0.66963,     0.67115,     0.67433,     0.67786,     0.67857,      0.6801,     0.68157,     0.68251,      0.6836,     0.68476,     0.68611,     0.68729,     0.68748,\n",
      "            0.68935,     0.68988,     0.69123,     0.69269,     0.69389,     0.69519,     0.69648,     0.69793,     0.69927,     0.70105,     0.70261,     0.70386,     0.70483,     0.70657,      0.7079,      0.7085,     0.70888,     0.71004,     0.71073,     0.71107,     0.71184,     0.71316,     0.71373,\n",
      "             0.7148,      0.7169,     0.71751,     0.71849,     0.71999,     0.72155,     0.72267,     0.72329,     0.72346,     0.72514,     0.72622,     0.72743,     0.72803,     0.72867,     0.72958,     0.73194,     0.73254,     0.73278,     0.73354,     0.73381,      0.7344,     0.73596,     0.73622,\n",
      "            0.73673,      0.7378,     0.73885,     0.74004,     0.74161,     0.74237,     0.74307,     0.74394,      0.7451,     0.74617,     0.74645,     0.74667,     0.74741,     0.74849,     0.74913,     0.74987,     0.75035,     0.75035,     0.75083,     0.75122,     0.75174,     0.75316,     0.75431,\n",
      "            0.75481,     0.75546,     0.75651,     0.75733,     0.75812,      0.7589,     0.75938,     0.75961,     0.75976,     0.76013,     0.76047,     0.76149,     0.76194,     0.76235,     0.76264,     0.76367,     0.76516,     0.76635,     0.76709,     0.76756,     0.76791,     0.76825,      0.7683,\n",
      "            0.76856,      0.7694,     0.76986,     0.77008,     0.77064,     0.77086,     0.77151,     0.77265,     0.77289,      0.7733,      0.7736,     0.77362,     0.77466,     0.77582,     0.77666,     0.77723,      0.7774,     0.77818,     0.77903,      0.7793,     0.77987,     0.78043,     0.78059,\n",
      "            0.78066,     0.78103,     0.78121,     0.78142,     0.78171,     0.78249,     0.78404,      0.7844,     0.78566,     0.78613,     0.78654,     0.78672,     0.78693,     0.78812,     0.78851,     0.78948,     0.79017,     0.79058,     0.79281,     0.79343,     0.79335,     0.79401,      0.7944,\n",
      "             0.7955,     0.79581,     0.79638,      0.7978,     0.79802,     0.79852,     0.79949,     0.79966,     0.80018,     0.80081,     0.80187,     0.80211,     0.80251,     0.80337,     0.80381,     0.80399,     0.80422,     0.80514,     0.80554,     0.80589,     0.80649,     0.80639,     0.80677,\n",
      "            0.80703,      0.8074,     0.80788,     0.80846,     0.80931,     0.80985,     0.81086,     0.81134,     0.81202,     0.81225,     0.81295,     0.81347,      0.8143,     0.81441,     0.81453,     0.81464,     0.81466,     0.81482,     0.81499,      0.8154,     0.81538,     0.81533,     0.81601,\n",
      "            0.81722,     0.81792,     0.81815,      0.8184,      0.8187,     0.81904,     0.81983,     0.82035,     0.82112,     0.82151,     0.82197,     0.82227,     0.82287,     0.82304,     0.82398,     0.82432,     0.82547,     0.82624,     0.82743,     0.82835,     0.82879,     0.82917,     0.82959,\n",
      "            0.83081,     0.83151,     0.83194,     0.83261,     0.83385,     0.83443,     0.83476,     0.83497,     0.83519,     0.83543,     0.83559,     0.83653,     0.83711,     0.83777,     0.83799,     0.83826,     0.83863,       0.839,     0.83998,     0.84125,     0.84118,     0.84106,     0.84167,\n",
      "            0.84281,     0.84276,      0.8427,     0.84308,     0.84301,     0.84328,     0.84367,     0.84482,     0.84475,     0.84503,     0.84652,     0.84694,      0.8478,     0.84804,     0.84826,     0.84841,     0.84856,      0.8488,     0.84908,     0.85063,      0.8512,     0.85209,      0.8524,\n",
      "            0.85302,     0.85344,     0.85373,     0.85398,     0.85423,     0.85448,     0.85596,     0.85683,     0.85679,     0.85676,     0.85802,     0.85855,     0.85851,     0.85858,     0.85895,     0.85893,     0.85892,      0.8589,     0.85888,     0.85897,      0.8591,     0.85924,     0.85932,\n",
      "            0.85973,     0.85967,     0.86065,     0.86089,     0.86119,     0.86269,     0.86348,     0.86343,     0.86344,      0.8635,     0.86355,     0.86361,     0.86367,     0.86372,     0.86378,     0.86383,     0.86389,     0.86418,     0.86458,     0.86576,     0.86582,     0.86762,     0.86788,\n",
      "            0.86817,     0.86859,       0.869,     0.86931,     0.86987,     0.87015,     0.87119,     0.87191,     0.87187,     0.87214,     0.87295,     0.87315,     0.87328,     0.87352,     0.87384,     0.87411,     0.87419,     0.87437,     0.87475,     0.87496,     0.87512,     0.87554,     0.87568,\n",
      "            0.87625,     0.87676,     0.87776,     0.87942,     0.87963,     0.87984,     0.88016,     0.88146,     0.88165,     0.88184,     0.88242,     0.88269,     0.88411,     0.88485,     0.88534,     0.88588,     0.88605,     0.88621,     0.88691,     0.88816,     0.88922,     0.88979,     0.89032,\n",
      "             0.8908,     0.89079,     0.89077,     0.89083,     0.89231,     0.89384,      0.8941,     0.89426,     0.89458,     0.89456,     0.89454,      0.8947,     0.89554,     0.89578,      0.8962,     0.89648,     0.89669,     0.89686,     0.89703,     0.89791,     0.89864,     0.89859,     0.89857,\n",
      "            0.89854,     0.89898,     0.89984,     0.89987,     0.89984,     0.89978,     0.90001,     0.90032,     0.90058,     0.90088,     0.90135,     0.90133,     0.90131,     0.90182,     0.90187,       0.902,     0.90214,     0.90228,     0.90246,     0.90265,     0.90285,     0.90312,     0.90347,\n",
      "            0.90464,     0.90538,     0.90601,     0.90599,     0.90598,     0.90596,     0.90649,     0.90641,     0.90648,     0.90666,     0.90684,     0.90739,     0.90812,     0.90839,     0.90825,      0.9082,     0.90817,     0.90815,     0.90813,     0.90811,     0.90804,     0.90802,     0.90801,\n",
      "            0.90829,     0.90963,     0.90962,      0.9096,     0.91026,     0.91119,     0.91164,     0.91224,     0.91277,     0.91277,     0.91276,     0.91275,     0.91274,     0.91273,      0.9139,     0.91441,     0.91472,     0.91536,     0.91529,     0.91527,     0.91622,     0.91628,     0.91687,\n",
      "            0.91728,     0.91732,     0.91764,      0.9178,     0.91802,     0.91867,     0.91881,     0.91877,     0.91989,     0.91986,     0.92015,     0.92036,     0.92062,     0.92145,     0.92143,     0.92138,     0.92139,      0.9223,     0.92236,     0.92231,     0.92225,     0.92222,     0.92268,\n",
      "            0.92264,      0.9226,     0.92271,     0.92284,     0.92296,     0.92309,     0.92311,     0.92316,     0.92332,     0.92349,     0.92365,     0.92398,     0.92499,     0.92572,     0.92595,     0.92642,     0.92762,      0.9276,     0.92758,     0.92753,     0.92766,     0.92803,     0.92805,\n",
      "             0.9291,      0.9294,      0.9308,     0.93193,     0.93187,     0.93224,     0.93263,     0.93297,     0.93294,     0.93291,     0.93282,     0.93269,     0.93262,     0.93259,     0.93257,      0.9327,      0.9331,     0.93375,     0.93518,     0.93548,     0.93545,     0.93542,     0.93532,\n",
      "             0.9353,     0.93528,     0.93582,      0.9364,     0.93687,     0.93696,     0.93693,     0.93688,     0.93686,     0.93679,     0.93732,     0.93722,     0.93778,     0.93772,     0.93761,     0.93758,     0.93757,     0.93755,     0.93809,     0.93834,     0.93975,     0.93994,     0.93992,\n",
      "            0.93991,      0.9399,        0.94,     0.94168,     0.94166,     0.94163,     0.94172,     0.94223,     0.94221,      0.9422,     0.94231,     0.94265,     0.94261,     0.94255,     0.94282,     0.94309,     0.94308,     0.94348,     0.94385,     0.94433,     0.94468,     0.94481,     0.94531,\n",
      "            0.94539,     0.94595,     0.94656,     0.94653,     0.94649,     0.94645,      0.9464,     0.94715,     0.94825,     0.94815,     0.94804,     0.94855,     0.94853,     0.94845,     0.94832,     0.94823,     0.94813,     0.94875,     0.94935,     0.94928,     0.94962,     0.95056,     0.95073,\n",
      "            0.95113,     0.95105,       0.951,     0.95096,     0.95086,      0.9508,     0.95069,     0.95063,     0.95121,     0.95186,     0.95273,     0.95311,     0.95302,     0.95298,      0.9543,     0.95422,     0.95412,     0.95403,       0.954,     0.95385,     0.95378,     0.95376,     0.95373,\n",
      "            0.95369,     0.95372,     0.95421,     0.95483,     0.95479,     0.95552,     0.95682,     0.95808,     0.95858,      0.9586,     0.95847,     0.95842,     0.95825,     0.95905,     0.95951,     0.96014,     0.96005,     0.96072,     0.96069,     0.96085,     0.96126,     0.96112,     0.96162,\n",
      "            0.96189,     0.96224,     0.96346,      0.9643,     0.96417,     0.96411,     0.96407,       0.964,     0.96392,     0.96382,     0.96371,     0.96445,      0.9643,     0.96421,     0.96406,     0.96467,     0.96517,     0.96521,     0.96588,     0.96581,     0.96569,     0.96565,     0.96561,\n",
      "            0.96545,     0.96616,     0.96683,     0.96673,     0.96659,     0.96642,      0.9674,     0.96775,     0.96935,     0.97167,     0.97218,      0.9733,     0.97325,     0.97395,     0.97388,     0.97465,     0.97544,     0.97709,     0.97723,     0.97766,     0.97753,     0.97749,     0.97742,\n",
      "            0.97901,     0.97901,     0.97884,     0.97875,     0.97872,     0.97864,     0.97907,     0.97928,     0.98011,     0.98001,      0.9799,     0.97975,     0.97963,     0.97955,     0.98041,     0.98028,     0.98112,     0.98102,     0.98088,     0.98071,     0.98051,     0.98139,     0.98117,\n",
      "            0.98101,     0.98094,     0.98083,     0.98172,     0.98164,     0.98144,     0.98127,     0.98221,     0.98197,     0.98186,     0.98289,     0.98282,     0.98257,     0.98244,     0.98227,     0.98201,     0.98185,     0.98288,     0.98269,     0.98375,     0.98363,     0.98343,     0.98432,\n",
      "            0.98417,     0.98526,     0.98509,     0.98751,     0.98737,     0.98709,     0.98674,     0.98799,     0.98758,     0.98744,     0.98715,     0.98685,      0.9867,     0.98636,     0.98596,     0.98733,     0.98704,     0.98669,     0.98754,     0.98809,     0.98792,     0.98772,     0.98938,\n",
      "            0.98916,     0.98892,     0.98842,     0.99038,     0.98985,      0.9922,     0.99181,     0.99142,     0.99106,     0.99374,     0.99352,     0.99339,     0.99313,     0.99286,     0.99257,     0.99219,      0.9918,     0.99097,     0.99052,     0.99005,      0.9894,     0.98866,     0.98812,\n",
      "            0.98747,      0.9861,      0.9855,     0.98468,     0.98313,     0.98176,      0.9805,      0.9892,     0.98867,     0.98833,     0.98819,     0.98792,     0.98762,     0.98737,     0.98646,     0.98581,     0.98441,     0.98303,     0.98138,     0.97953,     0.97877,     0.97795,     0.97644,\n",
      "            0.97372,     0.97117,     0.96854,     0.97012,           1,           1,           1,           1,           1,           1,           1,           1,           1,           1,           1,           1,           1,           1,           1,           1,           1,           1,           1,\n",
      "                  1,           1,           1,           1,           1,           1,           1,           1,           1,           1,           1,           1,           1,           1,           1,           1,           1,           1,           1,           1,           1,           1,           1,\n",
      "                  1,           1,           1,           1,           1,           1,           1,           1,           1,           1,           1,           1,           1,           1,           1,           1,           1,           1,           1,           1,           1,           1,           1,\n",
      "                  1,           1,           1,           1,           1,           1,           1,           1,           1,           1,           1,           1,           1,           1,           1,           1,           1,           1,           1,           1,           1,           1,           1,\n",
      "                  1,           1,           1,           1,           1,           1,           1,           1,           1,           1,           1]]), 'Confidence', 'Precision'], [array([          0,    0.001001,    0.002002,    0.003003,    0.004004,    0.005005,    0.006006,    0.007007,    0.008008,    0.009009,     0.01001,    0.011011,    0.012012,    0.013013,    0.014014,    0.015015,    0.016016,    0.017017,    0.018018,    0.019019,     0.02002,    0.021021,    0.022022,    0.023023,\n",
      "          0.024024,    0.025025,    0.026026,    0.027027,    0.028028,    0.029029,     0.03003,    0.031031,    0.032032,    0.033033,    0.034034,    0.035035,    0.036036,    0.037037,    0.038038,    0.039039,     0.04004,    0.041041,    0.042042,    0.043043,    0.044044,    0.045045,    0.046046,    0.047047,\n",
      "          0.048048,    0.049049,     0.05005,    0.051051,    0.052052,    0.053053,    0.054054,    0.055055,    0.056056,    0.057057,    0.058058,    0.059059,     0.06006,    0.061061,    0.062062,    0.063063,    0.064064,    0.065065,    0.066066,    0.067067,    0.068068,    0.069069,     0.07007,    0.071071,\n",
      "          0.072072,    0.073073,    0.074074,    0.075075,    0.076076,    0.077077,    0.078078,    0.079079,     0.08008,    0.081081,    0.082082,    0.083083,    0.084084,    0.085085,    0.086086,    0.087087,    0.088088,    0.089089,     0.09009,    0.091091,    0.092092,    0.093093,    0.094094,    0.095095,\n",
      "          0.096096,    0.097097,    0.098098,    0.099099,      0.1001,      0.1011,      0.1021,      0.1031,      0.1041,     0.10511,     0.10611,     0.10711,     0.10811,     0.10911,     0.11011,     0.11111,     0.11211,     0.11311,     0.11411,     0.11512,     0.11612,     0.11712,     0.11812,     0.11912,\n",
      "           0.12012,     0.12112,     0.12212,     0.12312,     0.12412,     0.12513,     0.12613,     0.12713,     0.12813,     0.12913,     0.13013,     0.13113,     0.13213,     0.13313,     0.13413,     0.13514,     0.13614,     0.13714,     0.13814,     0.13914,     0.14014,     0.14114,     0.14214,     0.14314,\n",
      "           0.14414,     0.14515,     0.14615,     0.14715,     0.14815,     0.14915,     0.15015,     0.15115,     0.15215,     0.15315,     0.15415,     0.15516,     0.15616,     0.15716,     0.15816,     0.15916,     0.16016,     0.16116,     0.16216,     0.16316,     0.16416,     0.16517,     0.16617,     0.16717,\n",
      "           0.16817,     0.16917,     0.17017,     0.17117,     0.17217,     0.17317,     0.17417,     0.17518,     0.17618,     0.17718,     0.17818,     0.17918,     0.18018,     0.18118,     0.18218,     0.18318,     0.18418,     0.18519,     0.18619,     0.18719,     0.18819,     0.18919,     0.19019,     0.19119,\n",
      "           0.19219,     0.19319,     0.19419,      0.1952,      0.1962,      0.1972,      0.1982,      0.1992,      0.2002,      0.2012,      0.2022,      0.2032,      0.2042,     0.20521,     0.20621,     0.20721,     0.20821,     0.20921,     0.21021,     0.21121,     0.21221,     0.21321,     0.21421,     0.21522,\n",
      "           0.21622,     0.21722,     0.21822,     0.21922,     0.22022,     0.22122,     0.22222,     0.22322,     0.22422,     0.22523,     0.22623,     0.22723,     0.22823,     0.22923,     0.23023,     0.23123,     0.23223,     0.23323,     0.23423,     0.23524,     0.23624,     0.23724,     0.23824,     0.23924,\n",
      "           0.24024,     0.24124,     0.24224,     0.24324,     0.24424,     0.24525,     0.24625,     0.24725,     0.24825,     0.24925,     0.25025,     0.25125,     0.25225,     0.25325,     0.25425,     0.25526,     0.25626,     0.25726,     0.25826,     0.25926,     0.26026,     0.26126,     0.26226,     0.26326,\n",
      "           0.26426,     0.26527,     0.26627,     0.26727,     0.26827,     0.26927,     0.27027,     0.27127,     0.27227,     0.27327,     0.27427,     0.27528,     0.27628,     0.27728,     0.27828,     0.27928,     0.28028,     0.28128,     0.28228,     0.28328,     0.28428,     0.28529,     0.28629,     0.28729,\n",
      "           0.28829,     0.28929,     0.29029,     0.29129,     0.29229,     0.29329,     0.29429,      0.2953,      0.2963,      0.2973,      0.2983,      0.2993,      0.3003,      0.3013,      0.3023,      0.3033,      0.3043,     0.30531,     0.30631,     0.30731,     0.30831,     0.30931,     0.31031,     0.31131,\n",
      "           0.31231,     0.31331,     0.31431,     0.31532,     0.31632,     0.31732,     0.31832,     0.31932,     0.32032,     0.32132,     0.32232,     0.32332,     0.32432,     0.32533,     0.32633,     0.32733,     0.32833,     0.32933,     0.33033,     0.33133,     0.33233,     0.33333,     0.33433,     0.33534,\n",
      "           0.33634,     0.33734,     0.33834,     0.33934,     0.34034,     0.34134,     0.34234,     0.34334,     0.34434,     0.34535,     0.34635,     0.34735,     0.34835,     0.34935,     0.35035,     0.35135,     0.35235,     0.35335,     0.35435,     0.35536,     0.35636,     0.35736,     0.35836,     0.35936,\n",
      "           0.36036,     0.36136,     0.36236,     0.36336,     0.36436,     0.36537,     0.36637,     0.36737,     0.36837,     0.36937,     0.37037,     0.37137,     0.37237,     0.37337,     0.37437,     0.37538,     0.37638,     0.37738,     0.37838,     0.37938,     0.38038,     0.38138,     0.38238,     0.38338,\n",
      "           0.38438,     0.38539,     0.38639,     0.38739,     0.38839,     0.38939,     0.39039,     0.39139,     0.39239,     0.39339,     0.39439,      0.3954,      0.3964,      0.3974,      0.3984,      0.3994,      0.4004,      0.4014,      0.4024,      0.4034,      0.4044,     0.40541,     0.40641,     0.40741,\n",
      "           0.40841,     0.40941,     0.41041,     0.41141,     0.41241,     0.41341,     0.41441,     0.41542,     0.41642,     0.41742,     0.41842,     0.41942,     0.42042,     0.42142,     0.42242,     0.42342,     0.42442,     0.42543,     0.42643,     0.42743,     0.42843,     0.42943,     0.43043,     0.43143,\n",
      "           0.43243,     0.43343,     0.43443,     0.43544,     0.43644,     0.43744,     0.43844,     0.43944,     0.44044,     0.44144,     0.44244,     0.44344,     0.44444,     0.44545,     0.44645,     0.44745,     0.44845,     0.44945,     0.45045,     0.45145,     0.45245,     0.45345,     0.45445,     0.45546,\n",
      "           0.45646,     0.45746,     0.45846,     0.45946,     0.46046,     0.46146,     0.46246,     0.46346,     0.46446,     0.46547,     0.46647,     0.46747,     0.46847,     0.46947,     0.47047,     0.47147,     0.47247,     0.47347,     0.47447,     0.47548,     0.47648,     0.47748,     0.47848,     0.47948,\n",
      "           0.48048,     0.48148,     0.48248,     0.48348,     0.48448,     0.48549,     0.48649,     0.48749,     0.48849,     0.48949,     0.49049,     0.49149,     0.49249,     0.49349,     0.49449,      0.4955,      0.4965,      0.4975,      0.4985,      0.4995,      0.5005,      0.5015,      0.5025,      0.5035,\n",
      "            0.5045,     0.50551,     0.50651,     0.50751,     0.50851,     0.50951,     0.51051,     0.51151,     0.51251,     0.51351,     0.51451,     0.51552,     0.51652,     0.51752,     0.51852,     0.51952,     0.52052,     0.52152,     0.52252,     0.52352,     0.52452,     0.52553,     0.52653,     0.52753,\n",
      "           0.52853,     0.52953,     0.53053,     0.53153,     0.53253,     0.53353,     0.53453,     0.53554,     0.53654,     0.53754,     0.53854,     0.53954,     0.54054,     0.54154,     0.54254,     0.54354,     0.54454,     0.54555,     0.54655,     0.54755,     0.54855,     0.54955,     0.55055,     0.55155,\n",
      "           0.55255,     0.55355,     0.55455,     0.55556,     0.55656,     0.55756,     0.55856,     0.55956,     0.56056,     0.56156,     0.56256,     0.56356,     0.56456,     0.56557,     0.56657,     0.56757,     0.56857,     0.56957,     0.57057,     0.57157,     0.57257,     0.57357,     0.57457,     0.57558,\n",
      "           0.57658,     0.57758,     0.57858,     0.57958,     0.58058,     0.58158,     0.58258,     0.58358,     0.58458,     0.58559,     0.58659,     0.58759,     0.58859,     0.58959,     0.59059,     0.59159,     0.59259,     0.59359,     0.59459,      0.5956,      0.5966,      0.5976,      0.5986,      0.5996,\n",
      "            0.6006,      0.6016,      0.6026,      0.6036,      0.6046,     0.60561,     0.60661,     0.60761,     0.60861,     0.60961,     0.61061,     0.61161,     0.61261,     0.61361,     0.61461,     0.61562,     0.61662,     0.61762,     0.61862,     0.61962,     0.62062,     0.62162,     0.62262,     0.62362,\n",
      "           0.62462,     0.62563,     0.62663,     0.62763,     0.62863,     0.62963,     0.63063,     0.63163,     0.63263,     0.63363,     0.63463,     0.63564,     0.63664,     0.63764,     0.63864,     0.63964,     0.64064,     0.64164,     0.64264,     0.64364,     0.64464,     0.64565,     0.64665,     0.64765,\n",
      "           0.64865,     0.64965,     0.65065,     0.65165,     0.65265,     0.65365,     0.65465,     0.65566,     0.65666,     0.65766,     0.65866,     0.65966,     0.66066,     0.66166,     0.66266,     0.66366,     0.66466,     0.66567,     0.66667,     0.66767,     0.66867,     0.66967,     0.67067,     0.67167,\n",
      "           0.67267,     0.67367,     0.67467,     0.67568,     0.67668,     0.67768,     0.67868,     0.67968,     0.68068,     0.68168,     0.68268,     0.68368,     0.68468,     0.68569,     0.68669,     0.68769,     0.68869,     0.68969,     0.69069,     0.69169,     0.69269,     0.69369,     0.69469,      0.6957,\n",
      "            0.6967,      0.6977,      0.6987,      0.6997,      0.7007,      0.7017,      0.7027,      0.7037,      0.7047,     0.70571,     0.70671,     0.70771,     0.70871,     0.70971,     0.71071,     0.71171,     0.71271,     0.71371,     0.71471,     0.71572,     0.71672,     0.71772,     0.71872,     0.71972,\n",
      "           0.72072,     0.72172,     0.72272,     0.72372,     0.72472,     0.72573,     0.72673,     0.72773,     0.72873,     0.72973,     0.73073,     0.73173,     0.73273,     0.73373,     0.73473,     0.73574,     0.73674,     0.73774,     0.73874,     0.73974,     0.74074,     0.74174,     0.74274,     0.74374,\n",
      "           0.74474,     0.74575,     0.74675,     0.74775,     0.74875,     0.74975,     0.75075,     0.75175,     0.75275,     0.75375,     0.75475,     0.75576,     0.75676,     0.75776,     0.75876,     0.75976,     0.76076,     0.76176,     0.76276,     0.76376,     0.76476,     0.76577,     0.76677,     0.76777,\n",
      "           0.76877,     0.76977,     0.77077,     0.77177,     0.77277,     0.77377,     0.77477,     0.77578,     0.77678,     0.77778,     0.77878,     0.77978,     0.78078,     0.78178,     0.78278,     0.78378,     0.78478,     0.78579,     0.78679,     0.78779,     0.78879,     0.78979,     0.79079,     0.79179,\n",
      "           0.79279,     0.79379,     0.79479,      0.7958,      0.7968,      0.7978,      0.7988,      0.7998,      0.8008,      0.8018,      0.8028,      0.8038,      0.8048,     0.80581,     0.80681,     0.80781,     0.80881,     0.80981,     0.81081,     0.81181,     0.81281,     0.81381,     0.81481,     0.81582,\n",
      "           0.81682,     0.81782,     0.81882,     0.81982,     0.82082,     0.82182,     0.82282,     0.82382,     0.82482,     0.82583,     0.82683,     0.82783,     0.82883,     0.82983,     0.83083,     0.83183,     0.83283,     0.83383,     0.83483,     0.83584,     0.83684,     0.83784,     0.83884,     0.83984,\n",
      "           0.84084,     0.84184,     0.84284,     0.84384,     0.84484,     0.84585,     0.84685,     0.84785,     0.84885,     0.84985,     0.85085,     0.85185,     0.85285,     0.85385,     0.85485,     0.85586,     0.85686,     0.85786,     0.85886,     0.85986,     0.86086,     0.86186,     0.86286,     0.86386,\n",
      "           0.86486,     0.86587,     0.86687,     0.86787,     0.86887,     0.86987,     0.87087,     0.87187,     0.87287,     0.87387,     0.87487,     0.87588,     0.87688,     0.87788,     0.87888,     0.87988,     0.88088,     0.88188,     0.88288,     0.88388,     0.88488,     0.88589,     0.88689,     0.88789,\n",
      "           0.88889,     0.88989,     0.89089,     0.89189,     0.89289,     0.89389,     0.89489,      0.8959,      0.8969,      0.8979,      0.8989,      0.8999,      0.9009,      0.9019,      0.9029,      0.9039,      0.9049,     0.90591,     0.90691,     0.90791,     0.90891,     0.90991,     0.91091,     0.91191,\n",
      "           0.91291,     0.91391,     0.91491,     0.91592,     0.91692,     0.91792,     0.91892,     0.91992,     0.92092,     0.92192,     0.92292,     0.92392,     0.92492,     0.92593,     0.92693,     0.92793,     0.92893,     0.92993,     0.93093,     0.93193,     0.93293,     0.93393,     0.93493,     0.93594,\n",
      "           0.93694,     0.93794,     0.93894,     0.93994,     0.94094,     0.94194,     0.94294,     0.94394,     0.94494,     0.94595,     0.94695,     0.94795,     0.94895,     0.94995,     0.95095,     0.95195,     0.95295,     0.95395,     0.95495,     0.95596,     0.95696,     0.95796,     0.95896,     0.95996,\n",
      "           0.96096,     0.96196,     0.96296,     0.96396,     0.96496,     0.96597,     0.96697,     0.96797,     0.96897,     0.96997,     0.97097,     0.97197,     0.97297,     0.97397,     0.97497,     0.97598,     0.97698,     0.97798,     0.97898,     0.97998,     0.98098,     0.98198,     0.98298,     0.98398,\n",
      "           0.98498,     0.98599,     0.98699,     0.98799,     0.98899,     0.98999,     0.99099,     0.99199,     0.99299,     0.99399,     0.99499,       0.996,       0.997,       0.998,       0.999,           1]), array([[    0.93844,     0.93844,     0.93308,      0.9288,     0.92612,     0.92452,     0.92238,     0.92184,     0.92077,     0.91916,     0.91809,     0.91702,     0.91595,     0.91435,     0.91274,     0.91221,     0.91167,     0.91113,     0.90899,     0.90792,     0.90685,     0.90578,     0.90578,\n",
      "            0.90471,     0.90418,     0.90364,     0.90257,      0.9015,     0.90096,     0.90096,     0.90043,     0.90043,     0.89936,     0.89936,     0.89936,     0.89936,     0.89936,     0.89882,     0.89668,     0.89668,     0.89668,     0.89668,     0.89615,     0.89615,     0.89598,     0.89454,\n",
      "            0.89454,     0.89454,     0.89454,     0.89454,     0.89347,     0.89347,      0.8924,     0.89186,     0.89133,     0.89133,     0.89133,     0.89133,     0.89133,     0.89026,     0.89026,     0.88919,     0.88919,     0.88865,     0.88865,     0.88865,     0.88802,     0.88758,     0.88704,\n",
      "            0.88651,     0.88651,     0.88651,     0.88651,     0.88597,     0.88597,     0.88597,     0.88597,      0.8849,      0.8849,     0.88437,     0.88383,     0.88383,     0.88383,     0.88383,     0.88341,     0.88276,     0.88276,     0.88276,     0.88276,     0.88276,     0.88276,     0.88223,\n",
      "            0.88116,     0.88116,     0.88062,     0.88062,     0.88009,     0.88009,     0.88009,     0.88009,     0.87993,     0.87955,     0.87955,     0.87955,     0.87955,     0.87955,     0.87955,     0.87955,     0.87955,     0.87955,     0.87904,     0.87901,     0.87901,     0.87889,     0.87848,\n",
      "            0.87794,     0.87794,     0.87794,     0.87794,     0.87687,     0.87687,     0.87584,      0.8758,      0.8758,     0.87527,     0.87527,     0.87527,     0.87527,     0.87473,     0.87473,      0.8742,      0.8742,      0.8742,     0.87335,     0.87217,     0.87206,     0.87206,     0.87206,\n",
      "            0.87152,     0.87152,     0.87152,     0.87152,     0.87152,     0.87152,     0.87152,     0.87152,     0.87112,     0.87045,     0.87045,     0.86938,     0.86938,     0.86938,     0.86938,     0.86938,     0.86938,     0.86938,     0.86938,     0.86938,     0.86888,     0.86831,     0.86831,\n",
      "            0.86831,     0.86831,     0.86831,     0.86831,     0.86809,     0.86777,     0.86777,     0.86724,     0.86693,      0.8667,      0.8667,     0.86625,     0.86617,     0.86617,     0.86617,     0.86617,     0.86565,     0.86456,     0.86456,     0.86456,     0.86456,     0.86456,     0.86456,\n",
      "            0.86456,     0.86456,     0.86456,     0.86403,     0.86403,     0.86403,     0.86403,     0.86403,     0.86403,     0.86403,     0.86349,     0.86349,     0.86296,     0.86296,     0.86242,     0.86242,     0.86242,     0.86188,     0.86135,     0.86135,     0.86135,     0.86135,     0.86081,\n",
      "            0.86081,     0.86081,     0.86081,     0.86081,     0.86081,     0.86081,     0.86081,     0.86028,     0.86028,     0.86028,     0.86028,     0.85981,     0.85974,     0.85974,     0.85921,     0.85921,     0.85814,     0.85814,     0.85814,     0.85814,      0.8576,      0.8576,      0.8576,\n",
      "             0.8574,     0.85707,     0.85707,     0.85707,     0.85707,     0.85707,     0.85707,     0.85707,     0.85707,     0.85707,     0.85707,     0.85699,     0.85653,     0.85653,       0.856,     0.85546,     0.85546,     0.85546,     0.85546,      0.8554,     0.85494,     0.85493,     0.85493,\n",
      "            0.85493,     0.85439,     0.85439,     0.85332,     0.85332,     0.85332,     0.85332,     0.85332,     0.85332,     0.85332,     0.85332,     0.85332,     0.85332,       0.853,     0.85278,     0.85278,     0.85278,     0.85278,     0.85278,     0.85278,     0.85228,     0.85176,      0.8516,\n",
      "            0.85118,     0.85118,     0.85118,     0.85118,     0.85118,     0.85118,     0.85064,     0.85064,     0.85064,     0.85064,     0.85011,     0.84981,     0.84957,     0.84957,     0.84957,     0.84957,     0.84904,     0.84904,     0.84904,     0.84904,     0.84878,     0.84852,      0.8485,\n",
      "             0.8485,      0.8485,      0.8485,      0.8485,      0.8485,      0.8485,      0.8485,     0.84797,     0.84797,     0.84743,     0.84743,     0.84743,      0.8469,     0.84652,     0.84636,     0.84582,     0.84582,     0.84582,     0.84582,     0.84582,     0.84582,     0.84582,     0.84582,\n",
      "            0.84582,     0.84582,     0.84529,     0.84529,     0.84529,     0.84446,     0.84368,     0.84368,     0.84368,     0.84368,     0.84315,     0.84261,     0.84261,     0.84261,     0.84261,     0.84261,     0.84261,     0.84261,     0.84261,     0.84252,     0.84208,     0.84132,     0.84101,\n",
      "            0.84099,     0.84066,     0.84028,     0.83987,     0.83941,      0.8394,      0.8394,     0.83937,     0.83833,     0.83833,     0.83833,     0.83833,     0.83779,     0.83779,     0.83779,     0.83779,     0.83779,     0.83779,     0.83727,     0.83672,     0.83672,     0.83672,     0.83619,\n",
      "            0.83619,     0.83619,     0.83619,     0.83619,     0.83619,     0.83619,     0.83619,     0.83618,     0.83594,      0.8357,     0.83565,     0.83509,      0.8348,     0.83458,     0.83457,     0.83445,     0.83432,      0.8342,     0.83408,     0.83405,     0.83405,     0.83405,     0.83386,\n",
      "            0.83343,     0.83298,     0.83298,     0.83298,     0.83298,     0.83298,     0.83291,     0.83259,     0.83244,     0.83244,     0.83244,     0.83244,     0.83244,     0.83244,     0.83244,     0.83244,     0.83244,     0.83244,     0.83244,     0.83206,     0.83137,     0.83137,     0.83137,\n",
      "            0.83137,     0.83137,     0.83137,     0.83137,     0.83137,     0.83084,     0.83084,     0.83081,      0.8305,      0.8303,      0.8303,      0.8303,     0.83004,     0.82976,     0.82976,     0.82976,     0.82951,     0.82923,     0.82923,     0.82923,     0.82904,     0.82853,     0.82762,\n",
      "            0.82762,     0.82762,     0.82762,     0.82762,     0.82762,     0.82762,     0.82762,     0.82762,     0.82762,     0.82762,     0.82762,     0.82709,     0.82709,     0.82682,     0.82602,     0.82602,     0.82602,     0.82602,     0.82602,     0.82602,     0.82602,     0.82602,     0.82561,\n",
      "            0.82548,      0.8253,     0.82511,     0.82495,     0.82441,     0.82441,     0.82441,     0.82398,     0.82223,     0.82205,     0.82187,     0.82173,     0.82153,      0.8212,      0.8212,      0.8212,      0.8212,      0.8212,      0.8212,      0.8212,     0.82107,     0.82066,     0.82041,\n",
      "            0.82016,     0.81943,     0.81852,     0.81786,     0.81761,      0.8171,     0.81692,     0.81692,     0.81692,     0.81692,     0.81684,     0.81666,     0.81649,     0.81626,     0.81585,     0.81585,     0.81585,     0.81585,     0.81585,     0.81585,     0.81585,     0.81585,     0.81585,\n",
      "            0.81585,     0.81585,     0.81528,     0.81514,       0.815,     0.81487,     0.81476,     0.81403,      0.8137,      0.8137,      0.8137,     0.81298,     0.81263,     0.81216,     0.81083,     0.81027,     0.81001,     0.80981,     0.80962,     0.80944,     0.80878,     0.80861,     0.80844,\n",
      "            0.80835,     0.80831,     0.80812,     0.80794,     0.80782,     0.80737,     0.80728,     0.80691,     0.80669,     0.80659,      0.8065,      0.8064,     0.80631,     0.80621,     0.80567,     0.80514,     0.80514,     0.80479,     0.80398,       0.803,       0.803,     0.80269,     0.80246,\n",
      "            0.80246,      0.8018,     0.80139,     0.80094,     0.80032,     0.80032,     0.79971,     0.79928,     0.79918,     0.79877,     0.79872,     0.79811,     0.79764,     0.79757,     0.79732,     0.79672,      0.7955,      0.7955,     0.79496,      0.7944,      0.7937,     0.79345,     0.79213,\n",
      "             0.7917,     0.79126,     0.79122,     0.79122,     0.79122,     0.79122,     0.79054,     0.79015,     0.79015,     0.79015,     0.79015,     0.78961,     0.78961,     0.78961,     0.78908,     0.78908,     0.78904,      0.7888,     0.78856,      0.7879,     0.78747,     0.78747,      0.7864,\n",
      "            0.78573,     0.78533,     0.78493,      0.7842,     0.78343,     0.78319,     0.78266,     0.78241,     0.78204,     0.78164,     0.78054,     0.77885,     0.77802,     0.77767,     0.77745,      0.7773,      0.7773,      0.7773,     0.77677,     0.77621,      0.7758,     0.77545,     0.77409,\n",
      "            0.77383,     0.77357,     0.77275,     0.77195,     0.77195,     0.77174,     0.77146,     0.77072,     0.77045,     0.76952,      0.7685,     0.76717,     0.76645,     0.76569,      0.7643,     0.76391,     0.76371,     0.76352,     0.76338,     0.76285,     0.76285,     0.76241,     0.76218,\n",
      "            0.76202,     0.76186,     0.76124,     0.76062,     0.76036,     0.76002,     0.75964,     0.75963,     0.75939,     0.75916,     0.75803,     0.75678,     0.75616,     0.75528,     0.75428,     0.75409,     0.75375,     0.75375,     0.75321,     0.75268,     0.75268,     0.75148,     0.75107,\n",
      "             0.7506,     0.74952,     0.74915,      0.7487,     0.74807,     0.74742,     0.74674,     0.74572,     0.74555,     0.74396,      0.7423,     0.74023,     0.73993,     0.73871,     0.73674,     0.73545,     0.73386,     0.73328,     0.73251,     0.73145,     0.73126,     0.73076,     0.72966,\n",
      "            0.72926,     0.72813,     0.72733,     0.72661,     0.72504,     0.72415,     0.72253,     0.72148,     0.72002,     0.71983,     0.71895,      0.7181,     0.71667,     0.71611,      0.7155,     0.71407,     0.71242,     0.71108,     0.71047,     0.70813,     0.70704,     0.70676,      0.7062,\n",
      "            0.70549,     0.70396,      0.7028,     0.70155,     0.70087,     0.70075,     0.69988,     0.69741,      0.6954,      0.6941,     0.69192,     0.69104,     0.68799,     0.68683,     0.68509,      0.6835,     0.68187,     0.68085,     0.68027,     0.67773,      0.6774,     0.67497,     0.67072,\n",
      "            0.67024,     0.66844,     0.66702,     0.66525,     0.66257,     0.66147,     0.66073,     0.65936,     0.65786,     0.65599,     0.65399,     0.65349,     0.65078,     0.64896,     0.64621,     0.64317,     0.64186,     0.63871,     0.63758,     0.63507,     0.63284,       0.632,     0.63123,\n",
      "            0.62819,     0.62662,     0.62408,     0.62214,     0.61943,     0.61618,     0.61242,     0.61048,     0.60814,     0.60585,     0.60546,     0.60506,     0.60369,     0.60054,     0.59882,     0.59689,     0.59533,     0.59365,     0.58994,     0.58582,     0.58213,     0.58124,     0.57925,\n",
      "            0.57548,     0.57442,     0.56971,     0.56698,      0.5663,     0.56409,      0.5621,     0.55671,     0.55401,     0.55126,     0.54817,     0.54387,     0.54063,     0.53846,     0.53577,     0.53217,     0.52865,     0.52569,     0.52193,     0.51724,     0.51182,     0.50818,     0.50203,\n",
      "            0.49785,     0.49605,     0.49312,     0.48869,     0.48646,     0.48116,     0.47688,     0.47297,     0.46646,     0.46353,     0.46136,      0.4594,     0.45269,     0.44915,     0.44493,      0.4383,     0.43444,     0.43033,     0.42554,      0.4213,     0.41819,       0.413,     0.40337,\n",
      "             0.3995,     0.39368,     0.38895,     0.38108,     0.37661,     0.36845,     0.35855,     0.35222,     0.34066,     0.33671,     0.32892,     0.32148,     0.31778,      0.3096,     0.30066,     0.29205,     0.28535,      0.2778,     0.27302,     0.26644,     0.26273,     0.25833,      0.2494,\n",
      "            0.24422,     0.23879,     0.22847,     0.22048,     0.20882,     0.20437,     0.19437,     0.18558,     0.17801,     0.17008,     0.16422,     0.16102,     0.15467,     0.14893,     0.14304,     0.13604,     0.12946,     0.11746,      0.1119,     0.10654,     0.09993,    0.093319,    0.089072,\n",
      "           0.084389,    0.075951,    0.072793,    0.068816,    0.062412,    0.057633,    0.053845,    0.049012,    0.046733,    0.045323,    0.044806,    0.043768,      0.0427,    0.041859,    0.039012,    0.037182,    0.033793,    0.031014,    0.028222,    0.025616,     0.02468,    0.023748,    0.022186,\n",
      "           0.019836,    0.018039,    0.016483,    0.015525,    0.014103,    0.013079,     0.01256,    0.011679,    0.011357,    0.011054,    0.010762,   0.0097928,   0.0094936,   0.0093333,    0.009173,   0.0088076,   0.0077152,   0.0074212,   0.0073256,     0.00723,   0.0071345,   0.0070389,   0.0068877,\n",
      "          0.0064599,   0.0058116,   0.0057084,   0.0056053,   0.0055021,    0.005399,   0.0047042,   0.0034259,   0.0031432,    0.003044,   0.0029449,   0.0028458,   0.0027466,   0.0026102,   0.0023843,   0.0021583,   0.0020967,   0.0020485,   0.0020002,    0.001952,   0.0019038,   0.0018555,   0.0018073,\n",
      "           0.001759,   0.0017108,   0.0016626,   0.0016143,   0.0014869,    0.001343,   0.0011991,   0.0010363,  0.00071677,           0,           0,           0,           0,           0,           0,           0,           0,           0,           0,           0,           0,           0,           0,\n",
      "                  0,           0,           0,           0,           0,           0,           0,           0,           0,           0,           0,           0,           0,           0,           0,           0,           0,           0,           0,           0,           0,           0,           0,\n",
      "                  0,           0,           0,           0,           0,           0,           0,           0,           0,           0,           0]]), 'Confidence', 'Recall']]\n",
      "fitness: np.float64(0.6684388966988388)\n",
      "keys: ['metrics/precision(B)', 'metrics/recall(B)', 'metrics/mAP50(B)', 'metrics/mAP50-95(B)']\n",
      "maps: array([    0.64563])\n",
      "names: {0: 'contaminated'}\n",
      "plot: True\n",
      "results_dict: {'metrics/precision(B)': np.float64(0.9034698813697457), 'metrics/recall(B)': np.float64(0.815845824411135), 'metrics/mAP50(B)': np.float64(0.8736875757918696), 'metrics/mAP50-95(B)': np.float64(0.6456334879107243), 'fitness': np.float64(0.6684388966988388)}\n",
      "save_dir: WindowsPath('runs/detect/train22')\n",
      "speed: {'preprocess': 0.3246178432386749, 'inference': 5.936282021658761, 'loss': 0.0025526601441052494, 'postprocess': 2.457944106082527}\n",
      "task: 'detect'\n"
     ]
    }
   ],
   "source": [
    "results = model.val(data=\"./data.yaml\")\n",
    "print(results)"
   ]
  },
  {
   "cell_type": "code",
   "execution_count": 4,
   "id": "59855c0397ebdf83",
   "metadata": {
    "ExecuteTime": {
     "end_time": "2024-12-05T20:45:56.619711200Z",
     "start_time": "2024-12-05T20:45:56.612160500Z"
    },
    "collapsed": false
   },
   "outputs": [],
   "source": [
    "def infer_image(image_path):\n",
    "    # Загрузка изображения\n",
    "    image = cv2.imread(image_path)\n",
    "\n",
    "    # Инференс\n",
    "    return model(image)\n",
    "\n"
   ]
  },
  {
   "cell_type": "code",
   "execution_count": 5,
   "id": "bafd993999b6432d",
   "metadata": {
    "ExecuteTime": {
     "end_time": "2024-12-05T20:51:52.367492200Z",
     "start_time": "2024-12-05T20:51:52.357938500Z"
    },
    "collapsed": false
   },
   "outputs": [],
   "source": [
    "# Функция для создания маски с черным фоном\n",
    "def create_mask(image_path, results):\n",
    "    # Загружаем изображение и переводим в градации серого\n",
    "    image = cv2.imread(image_path)\n",
    "    height, width = image.shape[:2]\n",
    "\n",
    "    # Создаем пустую маску с черным фоном\n",
    "    mask = np.zeros((height, width), dtype=np.uint8)\n",
    "\n",
    "    # Проходим по результатам и создаем маску\n",
    "    for result in results:\n",
    "        masks = result.masks  # Получаем маски из результатов\n",
    "        if masks is not None:\n",
    "            for mask_array in masks.data:  # Получаем маски как массивы\n",
    "                mask_i = mask_array.cpu().numpy()  # Преобразуем маску в numpy массив\n",
    "                \n",
    "                # Изменяем размер маски под размер оригинального изображения\n",
    "                mask_i_resized = cv2.resize(mask_i, (width, height), interpolation=cv2.INTER_LINEAR)\n",
    "                \n",
    "                # Накладываем маску на пустую маску (255 для белого)\n",
    "                mask[mask_i_resized > 0] = 255\n",
    "\n",
    "    return mask"
   ]
  },
  {
   "cell_type": "code",
   "execution_count": 6,
   "id": "bb1b125643cab2da",
   "metadata": {
    "ExecuteTime": {
     "end_time": "2024-12-05T20:52:49.360392200Z",
     "start_time": "2024-12-05T20:52:49.205486700Z"
    },
    "collapsed": false
   },
   "outputs": [
    {
     "name": "stdout",
     "output_type": "stream",
     "text": [
      "\n",
      "0: 384x640 3 contaminateds, 43.5ms\n",
      "Speed: 3.5ms preprocess, 43.5ms inference, 6.5ms postprocess per image at shape (1, 3, 384, 640)\n"
     ]
    },
    {
     "data": {
      "text/plain": [
       "True"
      ]
     },
     "execution_count": 6,
     "metadata": {},
     "output_type": "execute_result"
    }
   ],
   "source": [
    "results = infer_image(\"./cv_test_dataset/test_img/_09.jpg\")\n",
    "mask_image = create_mask(\"./cv_test_dataset/test_img/_09.jpg\", results)\n",
    "\n",
    "# Сохраняем маску в формате PNG\n",
    "mask_output_path = './mask_image.png'  # Укажите путь для сохранения маски\n",
    "cv2.imwrite(mask_output_path, mask_image)"
   ]
  },
  {
   "cell_type": "code",
   "execution_count": 16,
   "id": "35bf1867b33cd589",
   "metadata": {
    "collapsed": false
   },
   "outputs": [
    {
     "name": "stderr",
     "output_type": "stream",
     "text": [
      "\"which\" �� ���� ����७��� ��� ���譥�\n",
      "��������, �ᯮ��塞�� �ணࠬ��� ��� ������ 䠩���.\n"
     ]
    }
   ],
   "source": [
    "!which python"
   ]
  },
  {
   "cell_type": "code",
   "execution_count": 17,
   "id": "0890ee91",
   "metadata": {},
   "outputs": [
    {
     "name": "stdout",
     "output_type": "stream",
     "text": [
      "0\n"
     ]
    }
   ],
   "source": [
    "import os\n",
    "print(os.environ.get('CUDA_VISIBLE_DEVICES'))"
   ]
  }
 ],
 "metadata": {
  "kernelspec": {
   "display_name": ".venv",
   "language": "python",
   "name": "python3"
  },
  "language_info": {
   "codemirror_mode": {
    "name": "ipython",
    "version": 3
   },
   "file_extension": ".py",
   "mimetype": "text/x-python",
   "name": "python",
   "nbconvert_exporter": "python",
   "pygments_lexer": "ipython3",
   "version": "3.12.7"
  }
 },
 "nbformat": 4,
 "nbformat_minor": 5
}
